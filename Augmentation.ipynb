{
  "cells": [
    {
      "cell_type": "code",
      "execution_count": null,
      "metadata": {
        "id": "_KE-b_4_1V3q"
      },
      "outputs": [],
      "source": []
    },
    {
      "cell_type": "markdown",
      "metadata": {
        "id": "8LAWhBU8rqAR"
      },
      "source": [
        "# Image and Multiple Bounding Boxes Augmentation for Deep Learning\n",
        "\n",
        "## Problem at hand\n",
        "Say we have images for training our Deep Neural Network. We also have separate PASCAL VOC format XML files with coordinates of bounding boxes for objects we are going to train our model to detect.\n",
        "We want to use [TensorFlow Object Detection API](https://github.com/tensorflow/models/tree/master/research/object_detection).\n",
        "To do so we are planning to:\n",
        "1. Convert all XML files into one CSV file that we can feed into TensorFlow Object Detection API\n",
        "2. Resize all images together with the corresponding object bounding boxes\n",
        "3. Augment images to upsample our dataset. Corresponding object bounding boxes should be augmented accordingly\n",
        "4. Document augmented images' new sizes and bounding boxes' coordinates to a CSV file\n",
        "\n",
        "This tutorial will walk you through this process step by step.\n",
        "\n",
        "## Solution\n",
        "\n",
        "At the core of this tutorial we will use amazing [imgaug library](https://github.com/aleju/imgaug). Author has published [tutorials](https://nbviewer.jupyter.org/github/aleju/imgaug-doc/tree/master/notebooks/) on the use of the library and [Documentation](https://imgaug.readthedocs.io/en/latest/index.html) is available as well.\n",
        "\n",
        "But here's a problem:\n",
        "I had to spend a whole day digging through the Documentation and coding up the script for my problem.\n",
        "I decided to share it, so you don't have to waste your time.\n",
        "\n",
        "The easiest way to install imgaug is through Anaconda. Follow this steps in Anaconda prompt to create a virtual environment, install imgaug and activate the environment:\n",
        "```\n",
        "conda create -n myenv python=3.5.6\n",
        "conda config --add channels conda-forge\n",
        "conda install imgaug\n",
        "conda activate myenv\n",
        "```\n",
        "You can refer to [imgaug library GitHub page](https://github.com/aleju/imgaug) for additional info on installation. To work through this tutorial you would need pandas installed as well. If you work through Anaconda it is installed by default."
      ]
    },
    {
      "cell_type": "code",
      "execution_count": 4,
      "metadata": {
        "id": "Z1zrWWUjrqAb"
      },
      "outputs": [],
      "source": [
        "# we will import all required libraries for this tutorial in advance\n",
        "## 1 ##\n",
        "import imgaug as ia\n",
        "ia.seed(1)\n",
        "# imgaug uses matplotlib backend for displaying images\n",
        "%matplotlib inline\n",
        "from imgaug.augmentables.bbs import BoundingBox, BoundingBoxesOnImage\n",
        "from imgaug import augmenters as iaa\n",
        "# imageio library will be used for image input/output\n",
        "import imageio.v2 as imageio\n",
        "import pandas as pd\n",
        "import numpy as np\n",
        "import re\n",
        "import os\n",
        "import glob\n",
        "# this library is needed to read XML files for converting it into CSV\n",
        "import xml.etree.ElementTree as ET\n",
        "import shutil"
      ]
    },
    {
      "cell_type": "markdown",
      "metadata": {
        "id": "ZBBzPJUVrqAg"
      },
      "source": [
        "## The data: images, XML files, bounding boxes\n",
        "\n",
        "Let's have a look at data we have. You can see basic operations of imgaug library for image loading and augmentation in this [notebook](https://nbviewer.jupyter.org/github/aleju/imgaug-doc/blob/master/notebooks/A01%20-%20Load%20and%20Augment%20an%20Image.ipynb)."
      ]
    },
    {
      "cell_type": "code",
      "execution_count": 5,
      "metadata": {},
      "outputs": [
        {
          "name": "stdout",
          "output_type": "stream",
          "text": [
            "D:\\rahul\\disease\\New folder\\train\\labels1\n"
          ]
        }
      ],
      "source": [
        "cd D:\\rahul\\disease\\New folder\\train\\labels1"
      ]
    },
    {
      "cell_type": "code",
      "execution_count": 6,
      "metadata": {},
      "outputs": [
        {
          "data": {
            "text/plain": [
              "'D:\\\\rahul\\\\disease\\\\New folder\\\\train\\\\labels1'"
            ]
          },
          "execution_count": 6,
          "metadata": {},
          "output_type": "execute_result"
        }
      ],
      "source": [
        "pwd"
      ]
    },
    {
      "cell_type": "code",
      "execution_count": 5,
      "metadata": {},
      "outputs": [],
      "source": [
        "# from pascal import annotation_from_yolo\n",
        "# from pascal.utils import save_xml\n",
        "\n",
        "# label_map = {\n",
        "#   0: \"Tomato___Tomato_mosaic_virus\",\n",
        "#   1: \"Tomato___Bacterial_spot\",\n",
        "#   2: \"Tomato___Early_blight\",\n",
        "#   3: \"Tomato___Late_blight\",\n",
        "#   4: \"Tomato___Leaf_Mold\",\n",
        "#   5: \"Tomato___Spider_mites Two-spotted_spider_mite\",\n",
        "#   6: \"Tomato___Target_Spot\",\n",
        "#   7: \"Tomato___Tomato_Yellow_Leaf_Curl_Virus\",\n",
        "#   8: \"Tomato___Septoria_leaf_spot\",\n",
        "#   9: \"Tomato___Healthy\"\n",
        "# }\n",
        "# for file in (glob.glob(r\"D:\\rahul\\disease\\New folder\\train\\labels\\*.txt\")):\n",
        "#     ann = annotation_from_yolo(file,\n",
        "#         label_map=label_map,\n",
        "#         img_w=256,\n",
        "#         img_h=256)\n",
        "\n",
        "#     xml = ann.to_xml()\n",
        "#     save_xml(file.strip(\".txt\")+\".xml\", xml, )"
      ]
    },
    {
      "cell_type": "code",
      "execution_count": 8,
      "metadata": {},
      "outputs": [
        {
          "data": {
            "text/plain": [
              "'D:\\\\rahul\\\\disease\\\\New folder\\\\train\\\\labels1'"
            ]
          },
          "execution_count": 8,
          "metadata": {},
          "output_type": "execute_result"
        }
      ],
      "source": [
        "pwd"
      ]
    },
    {
      "cell_type": "code",
      "execution_count": 7,
      "metadata": {
        "colab": {
          "base_uri": "https://localhost:8080/"
        },
        "id": "gLvC2ARkrqAh",
        "outputId": "04be4a81-4448-4ec0-e91c-a389278a2cd0"
      },
      "outputs": [],
      "source": [
        "# # load images as NumPy arrays and append them to images list\n",
        "# images = []\n",
        "# for index, file in enumerate(glob.glob(r'D:\\rahul\\disease\\New folder\\train\\images\\*.jpg')):\n",
        "#     images.append(imageio.imread(file))\n",
        "# # how many images we have\n",
        "# print('We have {} images'.format(len(images)))"
      ]
    },
    {
      "cell_type": "code",
      "execution_count": 5,
      "metadata": {
        "colab": {
          "base_uri": "https://localhost:8080/"
        },
        "id": "Hm7tcgySrqAj",
        "outputId": "23e993af-7c4b-4105-9f0b-792863dadb25"
      },
      "outputs": [],
      "source": [
        "# # what are the sizes of the images\n",
        "# for index, file in enumerate(glob.glob(r'D:\\rahul\\disease\\New folder\\train\\images\\*.jpg')):\n",
        "#     print('Image {} have size of {}'.format(file[7:], images[index].shape))"
      ]
    },
    {
      "cell_type": "markdown",
      "metadata": {
        "id": "e3gxnBB3rqAl"
      },
      "source": [
        "As you can see we have images of different sizes. Tuple of 3 numbers correspond to (width, height, channels). All our images are color images and consist of 3 channels RGB: red, green and blue."
      ]
    },
    {
      "cell_type": "code",
      "execution_count": 6,
      "metadata": {
        "id": "0v46L0c2rqAm"
      },
      "outputs": [],
      "source": [
        "# # Have a loook at 2 smaller images\n",
        "# ia.imshow(images[2])\n",
        "# ia.imshow(images[7])"
      ]
    },
    {
      "cell_type": "markdown",
      "metadata": {
        "id": "qnlCx5F4rqAn"
      },
      "source": [
        "All our images depict red pandas. Images are courtsey of Unsplash.com and their respective owners as described in image file names.\n",
        "\n",
        "Now let's have a look at one of the XML files."
      ]
    },
    {
      "cell_type": "code",
      "execution_count": 7,
      "metadata": {
        "colab": {
          "base_uri": "https://localhost:8080/"
        },
        "id": "cqM11lDOrqAo",
        "outputId": "b51cf780-84c1-461e-f4fc-00cdb2ef8e9a"
      },
      "outputs": [],
      "source": [
        "# # XML file names correspond to the image file names\n",
        "# for index, file in enumerate(glob.glob(r'D:\\rahul\\disease\\New folder\\train\\voc_annotations\\*.xml')):\n",
        "#     print(file[7:])"
      ]
    },
    {
      "cell_type": "markdown",
      "metadata": {
        "id": "l56P_HbdrqAr"
      },
      "source": [
        "## 1. Convert all XML files into one CSV file that we can feed into TensorFlow Object Detection API\n",
        "\n",
        "To convert all separate PASCAL VOC format XML files into one CSV file we will use the [xml_to_csv.py](https://github.com/datitran/raccoon_dataset/blob/master/xml_to_csv.py) code developed by Dan Tran."
      ]
    },
    {
      "cell_type": "code",
      "execution_count": 7,
      "metadata": {
        "id": "-yiSW8ZGrqAr"
      },
      "outputs": [],
      "source": [
        "# Function that will extract column data for our CSV file\n",
        "## 2 ##\n",
        "def xml_to_csv(path):\n",
        "    xml_list = []\n",
        "    for xml_file in glob.glob(path + \"/*.xml\"):\n",
        "        tree = ET.parse(xml_file)\n",
        "        root = tree.getroot()\n",
        "        for member in root.findall(\"object\"):\n",
        "            value = (\n",
        "                (root.find(\"filename\").text),\n",
        "                int(root.find(\"size\")[0].text),\n",
        "                int(root.find(\"size\")[1].text),\n",
        "                member[0].text,\n",
        "                float(member[1][0].text),\n",
        "                float(member[1][1].text),\n",
        "                float(member[1][2].text),\n",
        "                float(member[1][3].text),\n",
        "            )\n",
        "            xml_list.append(value)\n",
        "    column_name = [\n",
        "        \"filename\",\n",
        "        \"width\",\n",
        "        \"height\",\n",
        "        \"class\",\n",
        "        \"xmin\",\n",
        "        \"ymin\",\n",
        "        \"xmax\",\n",
        "        \"ymax\",\n",
        "    ]\n",
        "    xml_df = pd.DataFrame(xml_list, columns=column_name)\n",
        "    return xml_df"
      ]
    },
    {
      "cell_type": "code",
      "execution_count": null,
      "metadata": {},
      "outputs": [],
      "source": []
    },
    {
      "cell_type": "code",
      "execution_count": 8,
      "metadata": {
        "colab": {
          "base_uri": "https://localhost:8080/"
        },
        "id": "Ls37k4pzrqAt",
        "outputId": "ab4ad358-dcf4-4127-b531-ba94e9e666ca"
      },
      "outputs": [
        {
          "name": "stdout",
          "output_type": "stream",
          "text": [
            "Successfully converted xml to csv.\n"
          ]
        }
      ],
      "source": [
        "# apply xml_to_csv() function to convert all XML files in images/ folder into labels.csv\n",
        "## 3 ##\n",
        "labels_df = xml_to_csv(r\"D:\\rahul\\disease\\New folder\\train\\labels1\")\n",
        "labels_df.to_csv((r\"D:\\rahul\\disease\\New folder\\train\\labels.csv\"), index=None)\n",
        "print(\"Successfully converted xml to csv.\")"
      ]
    },
    {
      "cell_type": "markdown",
      "metadata": {},
      "source": []
    },
    {
      "cell_type": "code",
      "execution_count": 9,
      "metadata": {
        "colab": {
          "base_uri": "https://localhost:8080/",
          "height": 423
        },
        "id": "dV8peqpBrqBo",
        "outputId": "0c72f57f-7e08-4364-acba-ef2ec091baba"
      },
      "outputs": [
        {
          "data": {
            "text/html": [
              "<div>\n",
              "<style scoped>\n",
              "    .dataframe tbody tr th:only-of-type {\n",
              "        vertical-align: middle;\n",
              "    }\n",
              "\n",
              "    .dataframe tbody tr th {\n",
              "        vertical-align: top;\n",
              "    }\n",
              "\n",
              "    .dataframe thead th {\n",
              "        text-align: right;\n",
              "    }\n",
              "</style>\n",
              "<table border=\"1\" class=\"dataframe\">\n",
              "  <thead>\n",
              "    <tr style=\"text-align: right;\">\n",
              "      <th></th>\n",
              "      <th>filename</th>\n",
              "      <th>width</th>\n",
              "      <th>height</th>\n",
              "      <th>class</th>\n",
              "      <th>xmin</th>\n",
              "      <th>ymin</th>\n",
              "      <th>xmax</th>\n",
              "      <th>ymax</th>\n",
              "    </tr>\n",
              "  </thead>\n",
              "  <tbody>\n",
              "    <tr>\n",
              "      <th>0</th>\n",
              "      <td>(1000)</td>\n",
              "      <td>256</td>\n",
              "      <td>256</td>\n",
              "      <td>Tomato___Late_blight</td>\n",
              "      <td>84.5001</td>\n",
              "      <td>41.9301</td>\n",
              "      <td>241.6900</td>\n",
              "      <td>215.4001</td>\n",
              "    </tr>\n",
              "    <tr>\n",
              "      <th>1</th>\n",
              "      <td>(10000)</td>\n",
              "      <td>256</td>\n",
              "      <td>256</td>\n",
              "      <td>Tomato___Spider_mites Two-spotted_spider_mite</td>\n",
              "      <td>16.9100</td>\n",
              "      <td>0.6700</td>\n",
              "      <td>220.2100</td>\n",
              "      <td>235.6600</td>\n",
              "    </tr>\n",
              "    <tr>\n",
              "      <th>2</th>\n",
              "      <td>(10001)</td>\n",
              "      <td>256</td>\n",
              "      <td>256</td>\n",
              "      <td>Tomato___Leaf_Mold</td>\n",
              "      <td>32.7000</td>\n",
              "      <td>20.8600</td>\n",
              "      <td>237.3400</td>\n",
              "      <td>221.0001</td>\n",
              "    </tr>\n",
              "    <tr>\n",
              "      <th>3</th>\n",
              "      <td>(10002)</td>\n",
              "      <td>256</td>\n",
              "      <td>256</td>\n",
              "      <td>Tomato___Early_blight</td>\n",
              "      <td>8.1201</td>\n",
              "      <td>0.0000</td>\n",
              "      <td>234.4000</td>\n",
              "      <td>256.0000</td>\n",
              "    </tr>\n",
              "    <tr>\n",
              "      <th>4</th>\n",
              "      <td>(10003)</td>\n",
              "      <td>256</td>\n",
              "      <td>256</td>\n",
              "      <td>Tomato___Early_blight</td>\n",
              "      <td>34.5001</td>\n",
              "      <td>5.4099</td>\n",
              "      <td>231.6001</td>\n",
              "      <td>244.4998</td>\n",
              "    </tr>\n",
              "    <tr>\n",
              "      <th>...</th>\n",
              "      <td>...</td>\n",
              "      <td>...</td>\n",
              "      <td>...</td>\n",
              "      <td>...</td>\n",
              "      <td>...</td>\n",
              "      <td>...</td>\n",
              "      <td>...</td>\n",
              "      <td>...</td>\n",
              "    </tr>\n",
              "    <tr>\n",
              "      <th>9793</th>\n",
              "      <td>(9995)</td>\n",
              "      <td>256</td>\n",
              "      <td>256</td>\n",
              "      <td>Tomato___Leaf_Mold</td>\n",
              "      <td>27.6001</td>\n",
              "      <td>47.6099</td>\n",
              "      <td>244.6400</td>\n",
              "      <td>241.3000</td>\n",
              "    </tr>\n",
              "    <tr>\n",
              "      <th>9794</th>\n",
              "      <td>(9996)</td>\n",
              "      <td>256</td>\n",
              "      <td>256</td>\n",
              "      <td>Tomato___Tomato_mosaic_virus</td>\n",
              "      <td>66.1001</td>\n",
              "      <td>8.5499</td>\n",
              "      <td>207.7201</td>\n",
              "      <td>223.0999</td>\n",
              "    </tr>\n",
              "    <tr>\n",
              "      <th>9795</th>\n",
              "      <td>(9997)</td>\n",
              "      <td>256</td>\n",
              "      <td>256</td>\n",
              "      <td>Tomato___Spider_mites Two-spotted_spider_mite</td>\n",
              "      <td>48.0198</td>\n",
              "      <td>14.2001</td>\n",
              "      <td>251.3199</td>\n",
              "      <td>249.1901</td>\n",
              "    </tr>\n",
              "    <tr>\n",
              "      <th>9796</th>\n",
              "      <td>(9998)</td>\n",
              "      <td>256</td>\n",
              "      <td>256</td>\n",
              "      <td>Tomato___Leaf_Mold</td>\n",
              "      <td>1.1000</td>\n",
              "      <td>0.0001</td>\n",
              "      <td>213.6701</td>\n",
              "      <td>254.3000</td>\n",
              "    </tr>\n",
              "    <tr>\n",
              "      <th>9797</th>\n",
              "      <td>(9999)</td>\n",
              "      <td>256</td>\n",
              "      <td>256</td>\n",
              "      <td>Tomato___Healthy</td>\n",
              "      <td>31.9002</td>\n",
              "      <td>15.5500</td>\n",
              "      <td>218.0500</td>\n",
              "      <td>238.6499</td>\n",
              "    </tr>\n",
              "  </tbody>\n",
              "</table>\n",
              "<p>9798 rows × 8 columns</p>\n",
              "</div>"
            ],
            "text/plain": [
              "     filename  width  height                                          class  \\\n",
              "0      (1000)    256     256                           Tomato___Late_blight   \n",
              "1     (10000)    256     256  Tomato___Spider_mites Two-spotted_spider_mite   \n",
              "2     (10001)    256     256                             Tomato___Leaf_Mold   \n",
              "3     (10002)    256     256                          Tomato___Early_blight   \n",
              "4     (10003)    256     256                          Tomato___Early_blight   \n",
              "...       ...    ...     ...                                            ...   \n",
              "9793   (9995)    256     256                             Tomato___Leaf_Mold   \n",
              "9794   (9996)    256     256                   Tomato___Tomato_mosaic_virus   \n",
              "9795   (9997)    256     256  Tomato___Spider_mites Two-spotted_spider_mite   \n",
              "9796   (9998)    256     256                             Tomato___Leaf_Mold   \n",
              "9797   (9999)    256     256                               Tomato___Healthy   \n",
              "\n",
              "         xmin     ymin      xmax      ymax  \n",
              "0     84.5001  41.9301  241.6900  215.4001  \n",
              "1     16.9100   0.6700  220.2100  235.6600  \n",
              "2     32.7000  20.8600  237.3400  221.0001  \n",
              "3      8.1201   0.0000  234.4000  256.0000  \n",
              "4     34.5001   5.4099  231.6001  244.4998  \n",
              "...       ...      ...       ...       ...  \n",
              "9793  27.6001  47.6099  244.6400  241.3000  \n",
              "9794  66.1001   8.5499  207.7201  223.0999  \n",
              "9795  48.0198  14.2001  251.3199  249.1901  \n",
              "9796   1.1000   0.0001  213.6701  254.3000  \n",
              "9797  31.9002  15.5500  218.0500  238.6499  \n",
              "\n",
              "[9798 rows x 8 columns]"
            ]
          },
          "execution_count": 9,
          "metadata": {},
          "output_type": "execute_result"
        }
      ],
      "source": [
        "# in previuos cell we also put all annotation in labels_df\n",
        "# let's see what's inside\n",
        "# each bounding box has a separate row\n",
        "# 2 pictures have two red pandas in it\n",
        "\n",
        "## 4 ##\n",
        "labels_df"
      ]
    },
    {
      "cell_type": "markdown",
      "metadata": {
        "id": "c65klYblrqBq"
      },
      "source": [
        "## 2. Resize all images together with the corresponding object bounding boxes\n",
        "\n",
        "TensorFlow Object Detection API can be fed by images of different sizes. But your GPU might not be able to handle big pictures. Let's say we want to resize all the picture so the width and height should be 600px or less.\n",
        "\n",
        "To get familiar with basics of image and multiple bounding boxes augmentation refer to this [tutorial](https://nbviewer.jupyter.org/github/aleju/imgaug-doc/blob/master/notebooks/B02%20-%20Augment%20Bounding%20Boxes.ipynb) from imgaug creators.\n",
        "\n",
        "We will create resize_imgaug() function that will take DataFrame as shown in the previous cell and apply resizing augmentation to the image and all corresponding bounding boxes. The function will return DataFrame with updated images and bounding boxes annotations.\n",
        "\n",
        "First, we visualize some of the operation that will take place in the resize_imgaug() function."
      ]
    },
    {
      "cell_type": "code",
      "execution_count": 10,
      "metadata": {
        "id": "v2QUzp4lrqBr"
      },
      "outputs": [],
      "source": [
        "# start by groupping each image bounding boxes coordinates\n",
        "# separate dataframes are formed based on the filename\n",
        "\n",
        "## 5 ##\n",
        "\n",
        "grouped = labels_df.groupby(\"filename\")"
      ]
    },
    {
      "cell_type": "code",
      "execution_count": 11,
      "metadata": {
        "id": "xh57dctDrqBs"
      },
      "outputs": [
        {
          "data": {
            "text/html": [
              "<div>\n",
              "<style scoped>\n",
              "    .dataframe tbody tr th:only-of-type {\n",
              "        vertical-align: middle;\n",
              "    }\n",
              "\n",
              "    .dataframe tbody tr th {\n",
              "        vertical-align: top;\n",
              "    }\n",
              "\n",
              "    .dataframe thead th {\n",
              "        text-align: right;\n",
              "    }\n",
              "</style>\n",
              "<table border=\"1\" class=\"dataframe\">\n",
              "  <thead>\n",
              "    <tr style=\"text-align: right;\">\n",
              "      <th></th>\n",
              "      <th>filename</th>\n",
              "      <th>width</th>\n",
              "      <th>height</th>\n",
              "      <th>class</th>\n",
              "      <th>xmin</th>\n",
              "      <th>ymin</th>\n",
              "      <th>xmax</th>\n",
              "      <th>ymax</th>\n",
              "    </tr>\n",
              "  </thead>\n",
              "  <tbody>\n",
              "    <tr>\n",
              "      <th>0</th>\n",
              "      <td>(9000)</td>\n",
              "      <td>256</td>\n",
              "      <td>256</td>\n",
              "      <td>Tomato___Early_blight</td>\n",
              "      <td>31.09</td>\n",
              "      <td>14.9302</td>\n",
              "      <td>235.73</td>\n",
              "      <td>249.89</td>\n",
              "    </tr>\n",
              "  </tbody>\n",
              "</table>\n",
              "</div>"
            ],
            "text/plain": [
              "  filename  width  height                  class   xmin     ymin    xmax  \\\n",
              "0   (9000)    256     256  Tomato___Early_blight  31.09  14.9302  235.73   \n",
              "\n",
              "     ymax  \n",
              "0  249.89  "
            ]
          },
          "execution_count": 11,
          "metadata": {},
          "output_type": "execute_result"
        }
      ],
      "source": [
        "# we can pull each group with get_group() using the filename\n",
        "\n",
        "## 6 ##\n",
        "\n",
        "group_df = grouped.get_group(\"(9000)\")\n",
        "group_df = group_df.reset_index()\n",
        "group_df = group_df.drop([\"index\"], axis=1)\n",
        "group_df"
      ]
    },
    {
      "cell_type": "markdown",
      "metadata": {
        "id": "rInWQ_9CrqBt"
      },
      "source": [
        "### Visualization of bounding boxes"
      ]
    },
    {
      "cell_type": "code",
      "execution_count": 12,
      "metadata": {
        "id": "F5tK5BYRrqBu"
      },
      "outputs": [
        {
          "data": {
            "text/plain": [
              "array([[ 31.09  ,  14.9302, 235.73  , 249.89  ]])"
            ]
          },
          "execution_count": 12,
          "metadata": {},
          "output_type": "execute_result"
        }
      ],
      "source": [
        "# get bounding boxes coordinates from grouped data frame and write into array\n",
        "\n",
        "## 7 ##\n",
        "\n",
        "bb_array = group_df.drop([\"filename\", \"width\", \"height\", \"class\"], axis=1).values\n",
        "# display the array we've got\n",
        "bb_array"
      ]
    },
    {
      "cell_type": "code",
      "execution_count": 13,
      "metadata": {
        "id": "r4Gb29IfrqBv"
      },
      "outputs": [
        {
          "data": {
            "image/png": "[encoded data removed]",
            "text/plain": [
              "<Figure size 576x256 with 1 Axes>"
            ]
          },
          "metadata": {},
          "output_type": "display_data"
        }
      ],
      "source": [
        "# pass the array of bounding boxes coordinates to the imgaug library\n",
        "\n",
        "## 8##\n",
        "\n",
        "image = imageio.imread(r\"D:\\rahul\\disease\\New folder\\train/images/(9000).JPG\")\n",
        "bbs = BoundingBoxesOnImage.from_xyxy_array(bb_array, shape=image.shape)\n",
        "# display the image and draw bounding boxes\n",
        "ia.imshow(bbs.draw_on_image(image, size=1))"
      ]
    },
    {
      "cell_type": "code",
      "execution_count": 14,
      "metadata": {
        "id": "Qn-oG7JarqBw"
      },
      "outputs": [],
      "source": [
        "# to resize the images we create two augmenters\n",
        "# one is used when the image height is more than 600px and the other when the width is more than 600px\n",
        "\n",
        "## 9 ##\n",
        "height_resize = iaa.Sequential(\n",
        "    [iaa.Resize({\"height\": 600, \"width\": \"keep-aspect-ratio\"})]\n",
        ")\n",
        "\n",
        "width_resize = iaa.Sequential(\n",
        "    [iaa.Resize({\"height\": \"keep-aspect-ratio\", \"width\": 600})]\n",
        ")"
      ]
    },
    {
      "cell_type": "markdown",
      "metadata": {
        "id": "1yQqDmhTrqBx"
      },
      "source": [
        "When we augment images using imgaug library it resizes the bounding boxes as well and return BoundingBoxesOnImage object.\n",
        "It looks like this:\n",
        "```\n",
        "['filename.jpg',\n",
        " BoundingBoxesOnImage([BoundingBox(x1=81.1250, y1=114.5000, x2=324.8750, y2=320.7500, label=None)], shape=(337, 600, 3))]\n",
        "```\n",
        "bbs_obj_to_df() function will convert BoundingBoxesOnImage object to data frame with xmin, ymin, xmax, ymax columns."
      ]
    },
    {
      "cell_type": "code",
      "execution_count": 15,
      "metadata": {
        "id": "vSa2vGarrqBx"
      },
      "outputs": [],
      "source": [
        "# function to convert BoundingBoxesOnImage object into DataFrame\n",
        "\n",
        "\n",
        "## 10 ##\n",
        "#\n",
        "def bbs_obj_to_df(bbs_object):\n",
        "    #     convert BoundingBoxesOnImage object into array\n",
        "    bbs_array = bbs_object.to_xyxy_array()\n",
        "    #     convert array into a DataFrame ['xmin', 'ymin', 'xmax', 'ymax'] columns\n",
        "    df_bbs = pd.DataFrame(bbs_array, columns=[\"xmin\", \"ymin\", \"xmax\", \"ymax\"])\n",
        "    return df_bbs"
      ]
    },
    {
      "cell_type": "markdown",
      "metadata": {
        "id": "anzB3BgMrqBy"
      },
      "source": [
        "Next, define resize_imgaug() function.\n",
        "\n",
        "It will take pandas DataFrame with ['filename', 'width', 'height', 'class', 'xmin', 'ymin', 'xmax', 'ymax'] columns.\n",
        "\n",
        "And apply resizing augmentation to the image and all corresponding bounding boxes.\n",
        "\n",
        "The function will return DataFrame with updated images and bounding boxes annotations.\n",
        "resize_imgaug() function takes the following variables:\n",
        "- df: pandas DataFrame with ['filename', 'width', 'height', 'class', 'xmin', 'ymin', 'xmax', 'ymax'] columns, labels_df in our case\n",
        "- images_path: path to the folder with original images, 'images/' in our case(don't forget the forward slash)\n",
        "- aug_images_path: path to the folder where augmented images will be stored, e.g. 'aug_images/' (the folder should be created in advance)\n",
        "- image_prefix:  prefix for augmented image filenames, e.g 'aug_'"
      ]
    },
    {
      "cell_type": "code",
      "execution_count": 16,
      "metadata": {
        "id": "XboOtXr1rqBz"
      },
      "outputs": [],
      "source": [
        "## 11 ##\n",
        "def resize_imgaug(df, images_path, aug_images_path, image_prefix):\n",
        "    # create data frame which we're going to populate with augmented image info\n",
        "    aug_bbs_xy = pd.DataFrame(\n",
        "        columns=[\"filename\", \"width\", \"height\", \"class\", \"xmin\", \"ymin\", \"xmax\", \"ymax\"]\n",
        "    )\n",
        "    grouped = df.groupby(\"filename\")\n",
        "\n",
        "    for filename in df[\"filename\"].unique():\n",
        "        #   Get separate data frame grouped by file name\n",
        "        group_df = grouped.get_group(filename)\n",
        "        group_df = group_df.reset_index()\n",
        "        group_df = group_df.drop([\"index\"], axis=1)\n",
        "\n",
        "        #   The only difference between if and elif statements below is the use of height_resize and width_resize augmentors\n",
        "        #   deffined previously.\n",
        "\n",
        "        #   If image height is greater than or equal to image width\n",
        "        #   AND greater than 600px perform resizing augmentation shrinking image height to 600px.\n",
        "        if (\n",
        "            group_df[\"height\"].unique()[0] >= group_df[\"width\"].unique()[0]\n",
        "            and group_df[\"height\"].unique()[0] > 600\n",
        "        ):\n",
        "            #   read the image\n",
        "            image = imageio.imread(images_path + filename)\n",
        "            #   get bounding boxes coordinates and write into array\n",
        "            bb_array = group_df.drop(\n",
        "                [\"filename\", \"width\", \"height\", \"class\"], axis=1\n",
        "            ).values\n",
        "            #   pass the array of bounding boxes coordinates to the imgaug library\n",
        "            bbs = BoundingBoxesOnImage.from_xyxy_array(bb_array, shape=image.shape)\n",
        "            #   apply augmentation on image and on the bounding boxes\n",
        "            image_aug, bbs_aug = height_resize(image=image, bounding_boxes=bbs)\n",
        "            #   write augmented image to a file\n",
        "            imageio.imwrite(aug_images_path + image_prefix + filename, image_aug)\n",
        "            #   create a data frame with augmented values of image width and height\n",
        "            info_df = group_df.drop([\"xmin\", \"ymin\", \"xmax\", \"ymax\"], axis=1)\n",
        "            for index, _ in info_df.iterrows():\n",
        "                info_df.at[index, \"width\"] = image_aug.shape[1]\n",
        "                info_df.at[index, \"height\"] = image_aug.shape[0]\n",
        "            #   rename filenames by adding the predifined prefix\n",
        "            info_df[\"filename\"] = info_df[\"filename\"].apply(lambda x: image_prefix + x)\n",
        "            #   create a data frame with augmented bounding boxes coordinates using the function we created earlier\n",
        "            bbs_df = bbs_obj_to_df(bbs_aug)\n",
        "            #   concat all new augmented info into new data frame\n",
        "            aug_df = pd.concat([info_df, bbs_df], axis=1)\n",
        "            #   append rows to aug_bbs_xy data frame\n",
        "            aug_bbs_xy = pd.concat([aug_bbs_xy, aug_df])\n",
        "\n",
        "        #   if image width is greater than image height\n",
        "        #   AND greater than 600px perform resizing augmentation shrinking image width to 600px\n",
        "        elif (\n",
        "            group_df[\"width\"].unique()[0] > group_df[\"height\"].unique()[0]\n",
        "            and group_df[\"width\"].unique()[0] > 600\n",
        "        ):\n",
        "            #   read the image\n",
        "            image = imageio.imread(images_path + filename)\n",
        "            #   get bounding boxes coordinates and write into array\n",
        "            bb_array = group_df.drop(\n",
        "                [\"filename\", \"width\", \"height\", \"class\"], axis=1\n",
        "            ).values\n",
        "            #   pass the array of bounding boxes coordinates to the imgaug library\n",
        "            bbs = BoundingBoxesOnImage.from_xyxy_array(bb_array, shape=image.shape)\n",
        "            #   apply augmentation on image and on the bounding boxes\n",
        "            image_aug, bbs_aug = width_resize(image=image, bounding_boxes=bbs)\n",
        "            #   write augmented image to a file\n",
        "            imageio.imwrite(aug_images_path + image_prefix + filename, image_aug)\n",
        "            #   create a data frame with augmented values of image width and height\n",
        "            info_df = group_df.drop([\"xmin\", \"ymin\", \"xmax\", \"ymax\"], axis=1)\n",
        "            for index, _ in info_df.iterrows():\n",
        "                info_df.at[index, \"width\"] = image_aug.shape[1]\n",
        "                info_df.at[index, \"height\"] = image_aug.shape[0]\n",
        "            #   rename filenames by adding the predifined prefix\n",
        "            info_df[\"filename\"] = info_df[\"filename\"].apply(lambda x: image_prefix + x)\n",
        "            #   create a data frame with augmented bounding boxes coordinates using the function we created earlier\n",
        "            bbs_df = bbs_obj_to_df(bbs_aug)\n",
        "            #   concat all new augmented info into new data frame\n",
        "            aug_df = pd.concat([info_df, bbs_df], axis=1)\n",
        "            #   append rows to aug_bbs_xy data frame\n",
        "            aug_bbs_xy = pd.concat([aug_bbs_xy, aug_df])\n",
        "\n",
        "        #     append image info without any changes if it's height and width are both less than 600px\n",
        "        else:\n",
        "            aug_bbs_xy = pd.concat([aug_bbs_xy, group_df])\n",
        "    # return dataframe with updated images and bounding boxes annotations\n",
        "    aug_bbs_xy = aug_bbs_xy.reset_index()\n",
        "    aug_bbs_xy = aug_bbs_xy.drop([\"index\"], axis=1)\n",
        "    return aug_bbs_xy"
      ]
    },
    {
      "cell_type": "code",
      "execution_count": 17,
      "metadata": {},
      "outputs": [
        {
          "name": "stdout",
          "output_type": "stream",
          "text": [
            "D:\\rahul\\disease\\New folder\\train\n"
          ]
        }
      ],
      "source": [
        "cd D:\\rahul\\disease\\New folder\\train"
      ]
    },
    {
      "cell_type": "code",
      "execution_count": 18,
      "metadata": {
        "colab": {
          "base_uri": "https://localhost:8080/",
          "height": 363
        },
        "id": "LCNKA801rqB1",
        "outputId": "c927bfcf-0f5b-4759-9308-cf6fb4c879be"
      },
      "outputs": [
        {
          "name": "stderr",
          "output_type": "stream",
          "text": [
            "D:\\TEMP\\ipykernel_6452\\1926638242.py:84: FutureWarning: The behavior of DataFrame concatenation with empty or all-NA entries is deprecated. In a future version, this will no longer exclude empty or all-NA columns when determining the result dtypes. To retain the old behavior, exclude the relevant entries before the concat operation.\n",
            "  aug_bbs_xy = pd.concat([aug_bbs_xy, group_df])\n"
          ]
        }
      ],
      "source": [
        "# apply resizing augmentation to our images and write the updated images and bounding boxes annotations to the DataFrame\n",
        "# we will not apply prefix to our files and will overwrite images in the same directory\n",
        "## 12 ##\n",
        "\n",
        "resized_images_df = resize_imgaug(labels_df, \"images/\", \"images/\", \"\")"
      ]
    },
    {
      "cell_type": "code",
      "execution_count": 19,
      "metadata": {
        "id": "b0S69KCnrqB2"
      },
      "outputs": [
        {
          "data": {
            "text/html": [
              "<div>\n",
              "<style scoped>\n",
              "    .dataframe tbody tr th:only-of-type {\n",
              "        vertical-align: middle;\n",
              "    }\n",
              "\n",
              "    .dataframe tbody tr th {\n",
              "        vertical-align: top;\n",
              "    }\n",
              "\n",
              "    .dataframe thead th {\n",
              "        text-align: right;\n",
              "    }\n",
              "</style>\n",
              "<table border=\"1\" class=\"dataframe\">\n",
              "  <thead>\n",
              "    <tr style=\"text-align: right;\">\n",
              "      <th></th>\n",
              "      <th>filename</th>\n",
              "      <th>width</th>\n",
              "      <th>height</th>\n",
              "      <th>class</th>\n",
              "      <th>xmin</th>\n",
              "      <th>ymin</th>\n",
              "      <th>xmax</th>\n",
              "      <th>ymax</th>\n",
              "    </tr>\n",
              "  </thead>\n",
              "  <tbody>\n",
              "    <tr>\n",
              "      <th>0</th>\n",
              "      <td>(1000)</td>\n",
              "      <td>256</td>\n",
              "      <td>256</td>\n",
              "      <td>Tomato___Late_blight</td>\n",
              "      <td>84.5001</td>\n",
              "      <td>41.9301</td>\n",
              "      <td>241.6900</td>\n",
              "      <td>215.4001</td>\n",
              "    </tr>\n",
              "    <tr>\n",
              "      <th>1</th>\n",
              "      <td>(10000)</td>\n",
              "      <td>256</td>\n",
              "      <td>256</td>\n",
              "      <td>Tomato___Spider_mites Two-spotted_spider_mite</td>\n",
              "      <td>16.9100</td>\n",
              "      <td>0.6700</td>\n",
              "      <td>220.2100</td>\n",
              "      <td>235.6600</td>\n",
              "    </tr>\n",
              "    <tr>\n",
              "      <th>2</th>\n",
              "      <td>(10001)</td>\n",
              "      <td>256</td>\n",
              "      <td>256</td>\n",
              "      <td>Tomato___Leaf_Mold</td>\n",
              "      <td>32.7000</td>\n",
              "      <td>20.8600</td>\n",
              "      <td>237.3400</td>\n",
              "      <td>221.0001</td>\n",
              "    </tr>\n",
              "    <tr>\n",
              "      <th>3</th>\n",
              "      <td>(10002)</td>\n",
              "      <td>256</td>\n",
              "      <td>256</td>\n",
              "      <td>Tomato___Early_blight</td>\n",
              "      <td>8.1201</td>\n",
              "      <td>0.0000</td>\n",
              "      <td>234.4000</td>\n",
              "      <td>256.0000</td>\n",
              "    </tr>\n",
              "    <tr>\n",
              "      <th>4</th>\n",
              "      <td>(10003)</td>\n",
              "      <td>256</td>\n",
              "      <td>256</td>\n",
              "      <td>Tomato___Early_blight</td>\n",
              "      <td>34.5001</td>\n",
              "      <td>5.4099</td>\n",
              "      <td>231.6001</td>\n",
              "      <td>244.4998</td>\n",
              "    </tr>\n",
              "    <tr>\n",
              "      <th>...</th>\n",
              "      <td>...</td>\n",
              "      <td>...</td>\n",
              "      <td>...</td>\n",
              "      <td>...</td>\n",
              "      <td>...</td>\n",
              "      <td>...</td>\n",
              "      <td>...</td>\n",
              "      <td>...</td>\n",
              "    </tr>\n",
              "    <tr>\n",
              "      <th>9793</th>\n",
              "      <td>(9995)</td>\n",
              "      <td>256</td>\n",
              "      <td>256</td>\n",
              "      <td>Tomato___Leaf_Mold</td>\n",
              "      <td>27.6001</td>\n",
              "      <td>47.6099</td>\n",
              "      <td>244.6400</td>\n",
              "      <td>241.3000</td>\n",
              "    </tr>\n",
              "    <tr>\n",
              "      <th>9794</th>\n",
              "      <td>(9996)</td>\n",
              "      <td>256</td>\n",
              "      <td>256</td>\n",
              "      <td>Tomato___Tomato_mosaic_virus</td>\n",
              "      <td>66.1001</td>\n",
              "      <td>8.5499</td>\n",
              "      <td>207.7201</td>\n",
              "      <td>223.0999</td>\n",
              "    </tr>\n",
              "    <tr>\n",
              "      <th>9795</th>\n",
              "      <td>(9997)</td>\n",
              "      <td>256</td>\n",
              "      <td>256</td>\n",
              "      <td>Tomato___Spider_mites Two-spotted_spider_mite</td>\n",
              "      <td>48.0198</td>\n",
              "      <td>14.2001</td>\n",
              "      <td>251.3199</td>\n",
              "      <td>249.1901</td>\n",
              "    </tr>\n",
              "    <tr>\n",
              "      <th>9796</th>\n",
              "      <td>(9998)</td>\n",
              "      <td>256</td>\n",
              "      <td>256</td>\n",
              "      <td>Tomato___Leaf_Mold</td>\n",
              "      <td>1.1000</td>\n",
              "      <td>0.0001</td>\n",
              "      <td>213.6701</td>\n",
              "      <td>254.3000</td>\n",
              "    </tr>\n",
              "    <tr>\n",
              "      <th>9797</th>\n",
              "      <td>(9999)</td>\n",
              "      <td>256</td>\n",
              "      <td>256</td>\n",
              "      <td>Tomato___Healthy</td>\n",
              "      <td>31.9002</td>\n",
              "      <td>15.5500</td>\n",
              "      <td>218.0500</td>\n",
              "      <td>238.6499</td>\n",
              "    </tr>\n",
              "  </tbody>\n",
              "</table>\n",
              "<p>9798 rows × 8 columns</p>\n",
              "</div>"
            ],
            "text/plain": [
              "     filename width height                                          class  \\\n",
              "0      (1000)   256    256                           Tomato___Late_blight   \n",
              "1     (10000)   256    256  Tomato___Spider_mites Two-spotted_spider_mite   \n",
              "2     (10001)   256    256                             Tomato___Leaf_Mold   \n",
              "3     (10002)   256    256                          Tomato___Early_blight   \n",
              "4     (10003)   256    256                          Tomato___Early_blight   \n",
              "...       ...   ...    ...                                            ...   \n",
              "9793   (9995)   256    256                             Tomato___Leaf_Mold   \n",
              "9794   (9996)   256    256                   Tomato___Tomato_mosaic_virus   \n",
              "9795   (9997)   256    256  Tomato___Spider_mites Two-spotted_spider_mite   \n",
              "9796   (9998)   256    256                             Tomato___Leaf_Mold   \n",
              "9797   (9999)   256    256                               Tomato___Healthy   \n",
              "\n",
              "         xmin     ymin      xmax      ymax  \n",
              "0     84.5001  41.9301  241.6900  215.4001  \n",
              "1     16.9100   0.6700  220.2100  235.6600  \n",
              "2     32.7000  20.8600  237.3400  221.0001  \n",
              "3      8.1201   0.0000  234.4000  256.0000  \n",
              "4     34.5001   5.4099  231.6001  244.4998  \n",
              "...       ...      ...       ...       ...  \n",
              "9793  27.6001  47.6099  244.6400  241.3000  \n",
              "9794  66.1001   8.5499  207.7201  223.0999  \n",
              "9795  48.0198  14.2001  251.3199  249.1901  \n",
              "9796   1.1000   0.0001  213.6701  254.3000  \n",
              "9797  31.9002  15.5500  218.0500  238.6499  \n",
              "\n",
              "[9798 rows x 8 columns]"
            ]
          },
          "execution_count": 19,
          "metadata": {},
          "output_type": "execute_result"
        }
      ],
      "source": [
        "# display new DataFrame\n",
        "## 13 ##\n",
        "resized_images_df"
      ]
    },
    {
      "cell_type": "code",
      "execution_count": 20,
      "metadata": {
        "id": "Rqtng3-frqB3"
      },
      "outputs": [],
      "source": [
        "# overwrite the labels.csv with updated info\n",
        "\n",
        "## 14 ##\n",
        "resized_images_df.to_csv(\"labels100.csv\", index=False)"
      ]
    },
    {
      "cell_type": "code",
      "execution_count": 27,
      "metadata": {
        "id": "5Qe27sYBrqB4"
      },
      "outputs": [],
      "source": [
        "# # visualise the resized valentin-petkov-loL9nnBK-fE-unsplash.jpg image with bounding boxes\n",
        "# # to make sure our bounding boxes were resized correctly as well\n",
        "# grouped = resized_images_df.groupby('filename')\n",
        "# group_df = grouped.get_group('2 week old chicks!_000348.jpg')\n",
        "# group_df = group_df.reset_index()\n",
        "# group_df = group_df.drop(['index'], axis=1)\n",
        "# bb_array = group_df.drop(['filename', 'width', 'height', 'class'], axis=1).values\n",
        "# image = imageio.imread('images/2 week old chicks!_000348.jpg')\n",
        "# bbs = BoundingBoxesOnImage.from_xyxy_array(bb_array, shape=image.shape)\n",
        "# ia.imshow(bbs.draw_on_image(image, size=2))"
      ]
    },
    {
      "cell_type": "markdown",
      "metadata": {
        "id": "jb28vGLirqB5"
      },
      "source": [
        "## 3. Augment images to upsample our dataset. Corresponding object bounding boxes should be augmented accordingly\n",
        "\n",
        "In this part we will learn how to perform image augmetations. To do so we slightly change our resize_imgaug() function. But first, let's assign augmentation we want to perfom.\n",
        "\n",
        "imgaug allows us to tune many cool parameters which you can read about in their [Documentation](https://imgaug.readthedocs.io/en/latest/source/augmenters.html)."
      ]
    },
    {
      "cell_type": "code",
      "execution_count": 21,
      "metadata": {
        "id": "_jFVBRW2Jq7h"
      },
      "outputs": [],
      "source": [
        "aug_1 = iaa.Flipud()"
      ]
    },
    {
      "cell_type": "code",
      "execution_count": 22,
      "metadata": {
        "id": "v9yqQp8VrqB5"
      },
      "outputs": [],
      "source": [
        "aug_2 = iaa.Affine(rotate=(-60, 60))"
      ]
    },
    {
      "cell_type": "code",
      "execution_count": 23,
      "metadata": {
        "id": "B1BozmmcXmNi"
      },
      "outputs": [],
      "source": [
        "aug_3 = iaa.Fliplr()"
      ]
    },
    {
      "cell_type": "code",
      "execution_count": 24,
      "metadata": {
        "id": "61r-ITlNXy7x"
      },
      "outputs": [],
      "source": [
        "aug_4 = iaa.SaltAndPepper(0.1)"
      ]
    },
    {
      "cell_type": "code",
      "execution_count": 25,
      "metadata": {
        "id": "8EEg0X8hYJa5"
      },
      "outputs": [],
      "source": [
        "aug_5 = iaa.CropAndPad(percent=(-0.05, 0.1), pad_mode=ia.ALL, pad_cval=(0, 255))"
      ]
    },
    {
      "cell_type": "code",
      "execution_count": 26,
      "metadata": {
        "id": "sqGMgVqIbhaK"
      },
      "outputs": [],
      "source": [
        "aug_6 = iaa.imgcorruptlike.GaussianNoise(severity=2)"
      ]
    },
    {
      "cell_type": "code",
      "execution_count": 27,
      "metadata": {
        "id": "WOrt-Zg_btPJ"
      },
      "outputs": [],
      "source": [
        "aug_7 = iaa.WithHueAndSaturation(\n",
        "    iaa.WithChannels(0, iaa.Add((0, 50)))\n",
        ")  # blur images with a sigma between 0 and 3.0"
      ]
    },
    {
      "cell_type": "code",
      "execution_count": 28,
      "metadata": {
        "id": "t7_uXg9vcPjh"
      },
      "outputs": [],
      "source": [
        "aug_8 = iaa.ScaleX((0.5, 1.5))  # invert color channels"
      ]
    },
    {
      "cell_type": "code",
      "execution_count": 29,
      "metadata": {
        "id": "FmvIqfm9cbk4"
      },
      "outputs": [],
      "source": [
        "aug_9 = iaa.Rain(speed=(0.1, 0.3))"
      ]
    },
    {
      "cell_type": "code",
      "execution_count": 30,
      "metadata": {},
      "outputs": [],
      "source": [
        "aug_10 = iaa.Affine(rotate=45)"
      ]
    },
    {
      "cell_type": "code",
      "execution_count": 31,
      "metadata": {
        "id": "vG5B90UYfglc"
      },
      "outputs": [],
      "source": [
        "aug = [aug_1, aug_2, aug_3, aug_4, aug_5, aug_6, aug_7, aug_8, aug_9, aug_10]"
      ]
    },
    {
      "cell_type": "markdown",
      "metadata": {
        "id": "wJiAxS6MrqB6"
      },
      "source": [
        "Let's code image_aug() function.\n",
        "\n",
        "It takes the same variables as resize_imgaug(), plus:\n",
        "-augmenter: augmentation parameters of imgaug library. We can now apply custom augmenters.\n",
        "\n",
        "image_aug() function is very similar to resize_imgaug().\n",
        "\n",
        "But there's a caveat.\n",
        "\n",
        "Augmentations, like zooming in and translating the image in x/y directions, can lead to objects of interest (e'g', red pandas) partially or completely move out of image pane.\n",
        "\n",
        "image_aug() function will clip the bounding box if the object of interest is partially outside of image pane. And it will ignore image altogether if no bounding boxes left in image pane."
      ]
    },
    {
      "cell_type": "code",
      "execution_count": 32,
      "metadata": {},
      "outputs": [],
      "source": [
        "import matplotlib.image as mpimg"
      ]
    },
    {
      "cell_type": "code",
      "execution_count": 33,
      "metadata": {
        "id": "3gHBKoZxrqB7"
      },
      "outputs": [],
      "source": [
        "def image_aug(df, images_path, aug_images_path, image_prefix, augmentor):\n",
        "    # create data frame which we're going to populate with augmented image info\n",
        "    aug_bbs_xy = pd.DataFrame(\n",
        "        columns=[\"filename\", \"width\", \"height\", \"class\", \"xmin\", \"ymin\", \"xmax\", \"ymax\"]\n",
        "    )\n",
        "    grouped = df.groupby(\"filename\")\n",
        "\n",
        "    for filename in df[\"filename\"].unique():\n",
        "        #   get separate data frame grouped by file name\n",
        "        group_df = grouped.get_group(filename)\n",
        "        group_df = group_df.reset_index()\n",
        "        group_df = group_df.drop([\"index\"], axis=1)\n",
        "        #   read the image\n",
        "        image = mpimg.imread(images_path + filename + \".jpg\")\n",
        "        #   get bounding boxes coordinates and write into array\n",
        "        bb_array = group_df.drop(\n",
        "            [\"filename\", \"width\", \"height\", \"class\"], axis=1\n",
        "        ).values\n",
        "        #   pass the array of bounding boxes coordinates to the imgaug library\n",
        "        bbs = BoundingBoxesOnImage.from_xyxy_array(bb_array, shape=image.shape)\n",
        "        #   apply augmentation on image and on the bounding boxes\n",
        "        image_aug, bbs_aug = augmentor(image=image, bounding_boxes=bbs)\n",
        "        #   disregard bounding boxes which have fallen out of image pane\n",
        "        bbs_aug = bbs_aug.remove_out_of_image()\n",
        "        #   clip bounding boxes which are partially outside of image pane\n",
        "        bbs_aug = bbs_aug.clip_out_of_image()\n",
        "\n",
        "        #   don't perform any actions with the image if there are no bounding boxes left in it\n",
        "        if re.findall(\"Image...\", str(bbs_aug)) == [\"Image([]\"]:\n",
        "            pass\n",
        "\n",
        "        #   otherwise continue\n",
        "        else:\n",
        "            #   write augmented image to a file\n",
        "            mpimg.imsave(aug_images_path + image_prefix + filename + \".jpg\", image_aug)\n",
        "            #   create a data frame with augmented values of image width and height\n",
        "            info_df = group_df.drop([\"xmin\", \"ymin\", \"xmax\", \"ymax\"], axis=1)\n",
        "            for index, _ in info_df.iterrows():\n",
        "                info_df.at[index, \"width\"] = image_aug.shape[1]\n",
        "                info_df.at[index, \"height\"] = image_aug.shape[0]\n",
        "            #   rename filenames by adding the predifined prefix\n",
        "            info_df[\"filename\"] = info_df[\"filename\"].apply(lambda x: image_prefix + x)\n",
        "            #   create a data frame with augmented bounding boxes coordinates using the function we created earlier\n",
        "            bbs_df = bbs_obj_to_df(bbs_aug)\n",
        "            #   concat all new augmented info into new data frame\n",
        "            aug_df = pd.concat([info_df, bbs_df], axis=1)\n",
        "            #   append rows to aug_bbs_xy data frame\n",
        "            aug_bbs_xy = pd.concat([aug_bbs_xy, aug_df])\n",
        "\n",
        "    # return dataframe with updated images and bounding boxes annotations\n",
        "    aug_bbs_xy = aug_bbs_xy.reset_index()\n",
        "    aug_bbs_xy = aug_bbs_xy.drop([\"index\"], axis=1)\n",
        "    return aug_bbs_xy"
      ]
    },
    {
      "cell_type": "code",
      "execution_count": 34,
      "metadata": {
        "id": "g9OBNAmqrqB8"
      },
      "outputs": [
        {
          "name": "stderr",
          "output_type": "stream",
          "text": [
            "D:\\TEMP\\ipykernel_6452\\1409369030.py:48: FutureWarning: The behavior of DataFrame concatenation with empty or all-NA entries is deprecated. In a future version, this will no longer exclude empty or all-NA columns when determining the result dtypes. To retain the old behavior, exclude the relevant entries before the concat operation.\n",
            "  aug_bbs_xy = pd.concat([aug_bbs_xy, aug_df])\n"
          ]
        }
      ],
      "source": [
        "# Apply augmentation to our images and save files into 'aug_images/' folder with 'aug1_' prefix.\n",
        "# Write the updated images and bounding boxes annotations to the augmented_images_df dataframe.\n",
        "augmented_images_1 = image_aug(\n",
        "    resized_images_df, \"images/\", \"aug_images/\", \"aug1_1\", aug_1\n",
        ")"
      ]
    },
    {
      "cell_type": "code",
      "execution_count": 35,
      "metadata": {
        "id": "mtZjr7HKrqB9"
      },
      "outputs": [
        {
          "name": "stderr",
          "output_type": "stream",
          "text": [
            "D:\\TEMP\\ipykernel_6452\\1409369030.py:48: FutureWarning: The behavior of DataFrame concatenation with empty or all-NA entries is deprecated. In a future version, this will no longer exclude empty or all-NA columns when determining the result dtypes. To retain the old behavior, exclude the relevant entries before the concat operation.\n",
            "  aug_bbs_xy = pd.concat([aug_bbs_xy, aug_df])\n"
          ]
        }
      ],
      "source": [
        "augmented_images_2 = image_aug(\n",
        "    resized_images_df, \"images/\", \"aug_images/\", \"aug1_2\", aug_2\n",
        ")"
      ]
    },
    {
      "cell_type": "code",
      "execution_count": 36,
      "metadata": {
        "id": "IywX7iVB-76m"
      },
      "outputs": [
        {
          "name": "stderr",
          "output_type": "stream",
          "text": [
            "D:\\TEMP\\ipykernel_6452\\1409369030.py:48: FutureWarning: The behavior of DataFrame concatenation with empty or all-NA entries is deprecated. In a future version, this will no longer exclude empty or all-NA columns when determining the result dtypes. To retain the old behavior, exclude the relevant entries before the concat operation.\n",
            "  aug_bbs_xy = pd.concat([aug_bbs_xy, aug_df])\n"
          ]
        }
      ],
      "source": [
        "augmented_images_3 = image_aug(\n",
        "    resized_images_df, \"images/\", \"aug_images/\", \"aug1_3\", aug_3\n",
        ")"
      ]
    },
    {
      "cell_type": "code",
      "execution_count": 37,
      "metadata": {
        "id": "n42EBya7-9yF"
      },
      "outputs": [
        {
          "name": "stderr",
          "output_type": "stream",
          "text": [
            "D:\\TEMP\\ipykernel_6452\\1409369030.py:48: FutureWarning: The behavior of DataFrame concatenation with empty or all-NA entries is deprecated. In a future version, this will no longer exclude empty or all-NA columns when determining the result dtypes. To retain the old behavior, exclude the relevant entries before the concat operation.\n",
            "  aug_bbs_xy = pd.concat([aug_bbs_xy, aug_df])\n"
          ]
        }
      ],
      "source": [
        "augmented_images_4 = image_aug(\n",
        "    resized_images_df, \"images/\", \"aug_images/\", \"aug1_4\", aug_4\n",
        ")"
      ]
    },
    {
      "cell_type": "code",
      "execution_count": 38,
      "metadata": {
        "id": "0_82DaL3-_tN"
      },
      "outputs": [
        {
          "name": "stderr",
          "output_type": "stream",
          "text": [
            "D:\\TEMP\\ipykernel_6452\\1409369030.py:48: FutureWarning: The behavior of DataFrame concatenation with empty or all-NA entries is deprecated. In a future version, this will no longer exclude empty or all-NA columns when determining the result dtypes. To retain the old behavior, exclude the relevant entries before the concat operation.\n",
            "  aug_bbs_xy = pd.concat([aug_bbs_xy, aug_df])\n"
          ]
        }
      ],
      "source": [
        "augmented_images_5 = image_aug(\n",
        "    resized_images_df, \"images/\", \"aug_images/\", \"aug1_5\", aug_5\n",
        ")"
      ]
    },
    {
      "cell_type": "code",
      "execution_count": 39,
      "metadata": {
        "id": "7P-GSMwx_A82"
      },
      "outputs": [
        {
          "name": "stderr",
          "output_type": "stream",
          "text": [
            "D:\\TEMP\\ipykernel_6452\\1409369030.py:48: FutureWarning: The behavior of DataFrame concatenation with empty or all-NA entries is deprecated. In a future version, this will no longer exclude empty or all-NA columns when determining the result dtypes. To retain the old behavior, exclude the relevant entries before the concat operation.\n",
            "  aug_bbs_xy = pd.concat([aug_bbs_xy, aug_df])\n"
          ]
        }
      ],
      "source": [
        "augmented_images_6 = image_aug(\n",
        "    resized_images_df, \"images/\", \"aug_images/\", \"aug1_6\", aug_6\n",
        ")"
      ]
    },
    {
      "cell_type": "code",
      "execution_count": 40,
      "metadata": {
        "id": "duZzfyeA_DPF"
      },
      "outputs": [
        {
          "name": "stderr",
          "output_type": "stream",
          "text": [
            "D:\\TEMP\\ipykernel_6452\\1409369030.py:48: FutureWarning: The behavior of DataFrame concatenation with empty or all-NA entries is deprecated. In a future version, this will no longer exclude empty or all-NA columns when determining the result dtypes. To retain the old behavior, exclude the relevant entries before the concat operation.\n",
            "  aug_bbs_xy = pd.concat([aug_bbs_xy, aug_df])\n"
          ]
        }
      ],
      "source": [
        "augmented_images_7 = image_aug(\n",
        "    resized_images_df, \"images/\", \"aug_images/\", \"aug1_7\", aug_7\n",
        ")"
      ]
    },
    {
      "cell_type": "code",
      "execution_count": 41,
      "metadata": {
        "id": "zuMIu7kO_Fel"
      },
      "outputs": [
        {
          "name": "stderr",
          "output_type": "stream",
          "text": [
            "D:\\TEMP\\ipykernel_6452\\1409369030.py:48: FutureWarning: The behavior of DataFrame concatenation with empty or all-NA entries is deprecated. In a future version, this will no longer exclude empty or all-NA columns when determining the result dtypes. To retain the old behavior, exclude the relevant entries before the concat operation.\n",
            "  aug_bbs_xy = pd.concat([aug_bbs_xy, aug_df])\n"
          ]
        }
      ],
      "source": [
        "augmented_images_8 = image_aug(\n",
        "    resized_images_df, \"images/\", \"aug_images/\", \"aug1_8\", aug_8\n",
        ")"
      ]
    },
    {
      "cell_type": "code",
      "execution_count": 42,
      "metadata": {
        "id": "m5f3udtY_G8T"
      },
      "outputs": [
        {
          "name": "stderr",
          "output_type": "stream",
          "text": [
            "D:\\TEMP\\ipykernel_6452\\1409369030.py:48: FutureWarning: The behavior of DataFrame concatenation with empty or all-NA entries is deprecated. In a future version, this will no longer exclude empty or all-NA columns when determining the result dtypes. To retain the old behavior, exclude the relevant entries before the concat operation.\n",
            "  aug_bbs_xy = pd.concat([aug_bbs_xy, aug_df])\n"
          ]
        }
      ],
      "source": [
        "augmented_images_9 = image_aug(\n",
        "    resized_images_df, \"images/\", \"aug_images/\", \"aug1_9\", aug_9\n",
        ")"
      ]
    },
    {
      "cell_type": "code",
      "execution_count": 43,
      "metadata": {},
      "outputs": [
        {
          "name": "stderr",
          "output_type": "stream",
          "text": [
            "D:\\TEMP\\ipykernel_6452\\1409369030.py:48: FutureWarning: The behavior of DataFrame concatenation with empty or all-NA entries is deprecated. In a future version, this will no longer exclude empty or all-NA columns when determining the result dtypes. To retain the old behavior, exclude the relevant entries before the concat operation.\n",
            "  aug_bbs_xy = pd.concat([aug_bbs_xy, aug_df])\n"
          ]
        }
      ],
      "source": [
        "augmented_images_10 = image_aug(\n",
        "    resized_images_df, \"images/\", \"aug_images/\", \"aug1_10\", aug_10\n",
        ")"
      ]
    },
    {
      "cell_type": "markdown",
      "metadata": {
        "id": "tvqpATyarqB-"
      },
      "source": [
        "Here using techniques described above to compare original resized images and augmented copies. We will draw bounding boxes as well to make sure they were augmented correctly."
      ]
    },
    {
      "cell_type": "code",
      "execution_count": null,
      "metadata": {
        "id": "bh0SNge1hRyx"
      },
      "outputs": [],
      "source": [
        "# import os\n",
        "\n",
        "# # folder path\n",
        "# dir_path = r'/content/gdrive/MyDrive/coco /images'\n",
        "# count = 0\n",
        "# # Iterate directory\n",
        "# for path in os.listdir(dir_path):\n",
        "#     # check if current path is a file\n",
        "#     if os.path.isfile(os.path.join(dir_path, path)):\n",
        "#         count += 1\n",
        "# print('File count:', count)"
      ]
    },
    {
      "cell_type": "code",
      "execution_count": null,
      "metadata": {
        "id": "kd5KyxcVY6JX"
      },
      "outputs": [],
      "source": [
        "# import os\n",
        "\n",
        "# # folder path\n",
        "# dir_path = r'/content/gdrive/MyDrive/coco /outputs'\n",
        "# count = 0\n",
        "# # Iterate directory\n",
        "# for path in os.listdir(dir_path):\n",
        "#     # check if current path is a file\n",
        "#     if os.path.isfile(os.path.join(dir_path, path)):\n",
        "#         count += 1\n",
        "# print('File count:', count)"
      ]
    },
    {
      "cell_type": "code",
      "execution_count": null,
      "metadata": {
        "id": "pKKsRrRerqB-",
        "scrolled": false
      },
      "outputs": [],
      "source": []
    },
    {
      "cell_type": "markdown",
      "metadata": {
        "id": "ITKQNTrmrqB_"
      },
      "source": [
        "## 4. Document augmented images' new sizes and bounding boxes' coordinates to a CSV file\n",
        "\n",
        "We have two pandas DataFrames:\n",
        "1. resized_images_df - original resized images annotations\n",
        "2. augmented_images_df - augmented images annotations\n",
        "\n",
        "Let's concat them together and save in a new all_labels.csv file. After that we can put all the images in one folder."
      ]
    },
    {
      "cell_type": "code",
      "execution_count": 44,
      "metadata": {
        "id": "O4VpQQGBmKBr"
      },
      "outputs": [],
      "source": [
        "augmented_images_df = pd.concat(\n",
        "    [\n",
        "        augmented_images_1,\n",
        "        augmented_images_2,\n",
        "        augmented_images_3,\n",
        "        augmented_images_4,\n",
        "        augmented_images_5,\n",
        "        augmented_images_6,\n",
        "        augmented_images_7,\n",
        "        augmented_images_8,\n",
        "        augmented_images_9,\n",
        "        augmented_images_10,\n",
        "    ]\n",
        ")"
      ]
    },
    {
      "cell_type": "code",
      "execution_count": 45,
      "metadata": {
        "id": "VmnQyX_kmdOD"
      },
      "outputs": [
        {
          "data": {
            "text/html": [
              "<div>\n",
              "<style scoped>\n",
              "    .dataframe tbody tr th:only-of-type {\n",
              "        vertical-align: middle;\n",
              "    }\n",
              "\n",
              "    .dataframe tbody tr th {\n",
              "        vertical-align: top;\n",
              "    }\n",
              "\n",
              "    .dataframe thead th {\n",
              "        text-align: right;\n",
              "    }\n",
              "</style>\n",
              "<table border=\"1\" class=\"dataframe\">\n",
              "  <thead>\n",
              "    <tr style=\"text-align: right;\">\n",
              "      <th></th>\n",
              "      <th>filename</th>\n",
              "      <th>width</th>\n",
              "      <th>height</th>\n",
              "      <th>class</th>\n",
              "      <th>xmin</th>\n",
              "      <th>ymin</th>\n",
              "      <th>xmax</th>\n",
              "      <th>ymax</th>\n",
              "    </tr>\n",
              "  </thead>\n",
              "  <tbody>\n",
              "    <tr>\n",
              "      <th>0</th>\n",
              "      <td>aug1_1(1000)</td>\n",
              "      <td>256</td>\n",
              "      <td>256</td>\n",
              "      <td>Tomato___Late_blight</td>\n",
              "      <td>84.500099</td>\n",
              "      <td>40.599899</td>\n",
              "      <td>241.690002</td>\n",
              "      <td>214.069901</td>\n",
              "    </tr>\n",
              "    <tr>\n",
              "      <th>1</th>\n",
              "      <td>aug1_1(10000)</td>\n",
              "      <td>256</td>\n",
              "      <td>256</td>\n",
              "      <td>Tomato___Spider_mites Two-spotted_spider_mite</td>\n",
              "      <td>16.910000</td>\n",
              "      <td>20.339996</td>\n",
              "      <td>220.210007</td>\n",
              "      <td>255.330002</td>\n",
              "    </tr>\n",
              "    <tr>\n",
              "      <th>2</th>\n",
              "      <td>aug1_1(10001)</td>\n",
              "      <td>256</td>\n",
              "      <td>256</td>\n",
              "      <td>Tomato___Leaf_Mold</td>\n",
              "      <td>32.700001</td>\n",
              "      <td>34.999893</td>\n",
              "      <td>237.339996</td>\n",
              "      <td>235.139999</td>\n",
              "    </tr>\n",
              "    <tr>\n",
              "      <th>3</th>\n",
              "      <td>aug1_1(10002)</td>\n",
              "      <td>256</td>\n",
              "      <td>256</td>\n",
              "      <td>Tomato___Early_blight</td>\n",
              "      <td>8.120100</td>\n",
              "      <td>0.000000</td>\n",
              "      <td>234.399994</td>\n",
              "      <td>256.000000</td>\n",
              "    </tr>\n",
              "    <tr>\n",
              "      <th>4</th>\n",
              "      <td>aug1_1(10003)</td>\n",
              "      <td>256</td>\n",
              "      <td>256</td>\n",
              "      <td>Tomato___Early_blight</td>\n",
              "      <td>34.500099</td>\n",
              "      <td>11.500198</td>\n",
              "      <td>231.600098</td>\n",
              "      <td>250.590103</td>\n",
              "    </tr>\n",
              "    <tr>\n",
              "      <th>...</th>\n",
              "      <td>...</td>\n",
              "      <td>...</td>\n",
              "      <td>...</td>\n",
              "      <td>...</td>\n",
              "      <td>...</td>\n",
              "      <td>...</td>\n",
              "      <td>...</td>\n",
              "      <td>...</td>\n",
              "    </tr>\n",
              "    <tr>\n",
              "      <th>197</th>\n",
              "      <td>aug1_2(10179)</td>\n",
              "      <td>256</td>\n",
              "      <td>256</td>\n",
              "      <td>Tomato___Spider_mites Two-spotted_spider_mite</td>\n",
              "      <td>0.000000</td>\n",
              "      <td>0.000000</td>\n",
              "      <td>256.000000</td>\n",
              "      <td>256.000000</td>\n",
              "    </tr>\n",
              "    <tr>\n",
              "      <th>198</th>\n",
              "      <td>aug1_2(1018)</td>\n",
              "      <td>256</td>\n",
              "      <td>256</td>\n",
              "      <td>Tomato___Healthy</td>\n",
              "      <td>3.893841</td>\n",
              "      <td>0.000000</td>\n",
              "      <td>256.000000</td>\n",
              "      <td>256.000000</td>\n",
              "    </tr>\n",
              "    <tr>\n",
              "      <th>199</th>\n",
              "      <td>aug1_2(10180)</td>\n",
              "      <td>256</td>\n",
              "      <td>256</td>\n",
              "      <td>Tomato___Septoria_leaf_spot</td>\n",
              "      <td>0.000000</td>\n",
              "      <td>0.000000</td>\n",
              "      <td>256.000000</td>\n",
              "      <td>256.000000</td>\n",
              "    </tr>\n",
              "    <tr>\n",
              "      <th>200</th>\n",
              "      <td>aug1_2(10181)</td>\n",
              "      <td>256</td>\n",
              "      <td>256</td>\n",
              "      <td>Tomato___Healthy</td>\n",
              "      <td>0.000000</td>\n",
              "      <td>0.000000</td>\n",
              "      <td>249.833878</td>\n",
              "      <td>256.000000</td>\n",
              "    </tr>\n",
              "    <tr>\n",
              "      <th>201</th>\n",
              "      <td>aug1_2(10182)</td>\n",
              "      <td>256</td>\n",
              "      <td>256</td>\n",
              "      <td>Tomato___Healthy</td>\n",
              "      <td>36.732243</td>\n",
              "      <td>4.209883</td>\n",
              "      <td>212.812912</td>\n",
              "      <td>244.045410</td>\n",
              "    </tr>\n",
              "  </tbody>\n",
              "</table>\n",
              "<p>10000 rows × 8 columns</p>\n",
              "</div>"
            ],
            "text/plain": [
              "          filename width height  \\\n",
              "0     aug1_1(1000)   256    256   \n",
              "1    aug1_1(10000)   256    256   \n",
              "2    aug1_1(10001)   256    256   \n",
              "3    aug1_1(10002)   256    256   \n",
              "4    aug1_1(10003)   256    256   \n",
              "..             ...   ...    ...   \n",
              "197  aug1_2(10179)   256    256   \n",
              "198   aug1_2(1018)   256    256   \n",
              "199  aug1_2(10180)   256    256   \n",
              "200  aug1_2(10181)   256    256   \n",
              "201  aug1_2(10182)   256    256   \n",
              "\n",
              "                                             class       xmin       ymin  \\\n",
              "0                             Tomato___Late_blight  84.500099  40.599899   \n",
              "1    Tomato___Spider_mites Two-spotted_spider_mite  16.910000  20.339996   \n",
              "2                               Tomato___Leaf_Mold  32.700001  34.999893   \n",
              "3                            Tomato___Early_blight   8.120100   0.000000   \n",
              "4                            Tomato___Early_blight  34.500099  11.500198   \n",
              "..                                             ...        ...        ...   \n",
              "197  Tomato___Spider_mites Two-spotted_spider_mite   0.000000   0.000000   \n",
              "198                               Tomato___Healthy   3.893841   0.000000   \n",
              "199                    Tomato___Septoria_leaf_spot   0.000000   0.000000   \n",
              "200                               Tomato___Healthy   0.000000   0.000000   \n",
              "201                               Tomato___Healthy  36.732243   4.209883   \n",
              "\n",
              "           xmax        ymax  \n",
              "0    241.690002  214.069901  \n",
              "1    220.210007  255.330002  \n",
              "2    237.339996  235.139999  \n",
              "3    234.399994  256.000000  \n",
              "4    231.600098  250.590103  \n",
              "..          ...         ...  \n",
              "197  256.000000  256.000000  \n",
              "198  256.000000  256.000000  \n",
              "199  256.000000  256.000000  \n",
              "200  249.833878  256.000000  \n",
              "201  212.812912  244.045410  \n",
              "\n",
              "[10000 rows x 8 columns]"
            ]
          },
          "execution_count": 45,
          "metadata": {},
          "output_type": "execute_result"
        }
      ],
      "source": [
        "augmented_images_df[:10000]"
      ]
    },
    {
      "cell_type": "code",
      "execution_count": 50,
      "metadata": {},
      "outputs": [
        {
          "ename": "FileNotFoundError",
          "evalue": "[Errno 2] No such file or directory: 'aug_images/aug1_(1000).jpg'",
          "output_type": "error",
          "traceback": [
            "\u001b[1;31m---------------------------------------------------------------------------\u001b[0m",
            "\u001b[1;31mFileNotFoundError\u001b[0m                         Traceback (most recent call last)",
            "Cell \u001b[1;32mIn[50], line 17\u001b[0m\n\u001b[0;32m     15\u001b[0m group_a_df \u001b[38;5;241m=\u001b[39m group_a_df\u001b[38;5;241m.\u001b[39mdrop([\u001b[38;5;124m'\u001b[39m\u001b[38;5;124mindex\u001b[39m\u001b[38;5;124m'\u001b[39m], axis\u001b[38;5;241m=\u001b[39m\u001b[38;5;241m1\u001b[39m)\n\u001b[0;32m     16\u001b[0m bb_a_array \u001b[38;5;241m=\u001b[39m group_a_df\u001b[38;5;241m.\u001b[39mdrop([\u001b[38;5;124m'\u001b[39m\u001b[38;5;124mfilename\u001b[39m\u001b[38;5;124m'\u001b[39m, \u001b[38;5;124m'\u001b[39m\u001b[38;5;124mwidth\u001b[39m\u001b[38;5;124m'\u001b[39m, \u001b[38;5;124m'\u001b[39m\u001b[38;5;124mheight\u001b[39m\u001b[38;5;124m'\u001b[39m, \u001b[38;5;124m'\u001b[39m\u001b[38;5;124mclass\u001b[39m\u001b[38;5;124m'\u001b[39m], axis\u001b[38;5;241m=\u001b[39m\u001b[38;5;241m1\u001b[39m)\u001b[38;5;241m.\u001b[39mvalues\n\u001b[1;32m---> 17\u001b[0m augmented_img \u001b[38;5;241m=\u001b[39m \u001b[43mmpimg\u001b[49m\u001b[38;5;241;43m.\u001b[39;49m\u001b[43mimread\u001b[49m\u001b[43m(\u001b[49m\u001b[38;5;124;43m'\u001b[39;49m\u001b[38;5;124;43maug_images/\u001b[39;49m\u001b[38;5;124;43m'\u001b[39;49m\u001b[38;5;241;43m+\u001b[39;49m\u001b[38;5;124;43m'\u001b[39;49m\u001b[38;5;124;43maug1_\u001b[39;49m\u001b[38;5;124;43m'\u001b[39;49m\u001b[38;5;241;43m+\u001b[39;49m\u001b[43mfilename\u001b[49m\u001b[38;5;241;43m+\u001b[39;49m\u001b[38;5;124;43m\"\u001b[39;49m\u001b[38;5;124;43m.jpg\u001b[39;49m\u001b[38;5;124;43m\"\u001b[39;49m\u001b[43m)\u001b[49m\n\u001b[0;32m     18\u001b[0m bbs_a \u001b[38;5;241m=\u001b[39m BoundingBoxesOnImage\u001b[38;5;241m.\u001b[39mfrom_xyxy_array(bb_a_array, shape\u001b[38;5;241m=\u001b[39maugmented_img\u001b[38;5;241m.\u001b[39mshape)\n\u001b[0;32m     20\u001b[0m ia\u001b[38;5;241m.\u001b[39mimshow(np\u001b[38;5;241m.\u001b[39mhstack([\n\u001b[0;32m     21\u001b[0m         bbs_r\u001b[38;5;241m.\u001b[39mdraw_on_image(resized_img, size\u001b[38;5;241m=\u001b[39m\u001b[38;5;241m2\u001b[39m),\n\u001b[0;32m     22\u001b[0m         bbs_a\u001b[38;5;241m.\u001b[39mdraw_on_image(augmented_img, size\u001b[38;5;241m=\u001b[39m\u001b[38;5;241m2\u001b[39m)\n\u001b[0;32m     23\u001b[0m         ]))\n",
            "File \u001b[1;32md:\\users\\envs\\rahul\\Lib\\site-packages\\matplotlib\\image.py:1525\u001b[0m, in \u001b[0;36mimread\u001b[1;34m(fname, format)\u001b[0m\n\u001b[0;32m   1518\u001b[0m \u001b[38;5;28;01mif\u001b[39;00m \u001b[38;5;28misinstance\u001b[39m(fname, \u001b[38;5;28mstr\u001b[39m) \u001b[38;5;129;01mand\u001b[39;00m \u001b[38;5;28mlen\u001b[39m(parse\u001b[38;5;241m.\u001b[39murlparse(fname)\u001b[38;5;241m.\u001b[39mscheme) \u001b[38;5;241m>\u001b[39m \u001b[38;5;241m1\u001b[39m:\n\u001b[0;32m   1519\u001b[0m     \u001b[38;5;66;03m# Pillow doesn't handle URLs directly.\u001b[39;00m\n\u001b[0;32m   1520\u001b[0m     \u001b[38;5;28;01mraise\u001b[39;00m \u001b[38;5;167;01mValueError\u001b[39;00m(\n\u001b[0;32m   1521\u001b[0m         \u001b[38;5;124m\"\u001b[39m\u001b[38;5;124mPlease open the URL for reading and pass the \u001b[39m\u001b[38;5;124m\"\u001b[39m\n\u001b[0;32m   1522\u001b[0m         \u001b[38;5;124m\"\u001b[39m\u001b[38;5;124mresult to Pillow, e.g. with \u001b[39m\u001b[38;5;124m\"\u001b[39m\n\u001b[0;32m   1523\u001b[0m         \u001b[38;5;124m\"\u001b[39m\u001b[38;5;124m``np.array(PIL.Image.open(urllib.request.urlopen(url)))``.\u001b[39m\u001b[38;5;124m\"\u001b[39m\n\u001b[0;32m   1524\u001b[0m         )\n\u001b[1;32m-> 1525\u001b[0m \u001b[38;5;28;01mwith\u001b[39;00m \u001b[43mimg_open\u001b[49m\u001b[43m(\u001b[49m\u001b[43mfname\u001b[49m\u001b[43m)\u001b[49m \u001b[38;5;28;01mas\u001b[39;00m image:\n\u001b[0;32m   1526\u001b[0m     \u001b[38;5;28;01mreturn\u001b[39;00m (_pil_png_to_float_array(image)\n\u001b[0;32m   1527\u001b[0m             \u001b[38;5;28;01mif\u001b[39;00m \u001b[38;5;28misinstance\u001b[39m(image, PIL\u001b[38;5;241m.\u001b[39mPngImagePlugin\u001b[38;5;241m.\u001b[39mPngImageFile) \u001b[38;5;28;01melse\u001b[39;00m\n\u001b[0;32m   1528\u001b[0m             pil_to_array(image))\n",
            "File \u001b[1;32md:\\users\\envs\\rahul\\Lib\\site-packages\\PIL\\Image.py:3247\u001b[0m, in \u001b[0;36mopen\u001b[1;34m(fp, mode, formats)\u001b[0m\n\u001b[0;32m   3244\u001b[0m     filename \u001b[38;5;241m=\u001b[39m fp\n\u001b[0;32m   3246\u001b[0m \u001b[38;5;28;01mif\u001b[39;00m filename:\n\u001b[1;32m-> 3247\u001b[0m     fp \u001b[38;5;241m=\u001b[39m \u001b[43mbuiltins\u001b[49m\u001b[38;5;241;43m.\u001b[39;49m\u001b[43mopen\u001b[49m\u001b[43m(\u001b[49m\u001b[43mfilename\u001b[49m\u001b[43m,\u001b[49m\u001b[43m \u001b[49m\u001b[38;5;124;43m\"\u001b[39;49m\u001b[38;5;124;43mrb\u001b[39;49m\u001b[38;5;124;43m\"\u001b[39;49m\u001b[43m)\u001b[49m\n\u001b[0;32m   3248\u001b[0m     exclusive_fp \u001b[38;5;241m=\u001b[39m \u001b[38;5;28;01mTrue\u001b[39;00m\n\u001b[0;32m   3250\u001b[0m \u001b[38;5;28;01mtry\u001b[39;00m:\n",
            "\u001b[1;31mFileNotFoundError\u001b[0m: [Errno 2] No such file or directory: 'aug_images/aug1_(1000).jpg'"
          ]
        }
      ],
      "source": [
        "# grouped_resized = resized_images_df.groupby('filename')\n",
        "# grouped_augmented = augmented_images_df.groupby('filename')\n",
        "\n",
        "# for filename in resized_images_df['filename'].unique():\n",
        "\n",
        "#     group_r_df = grouped_resized.get_group(filename)\n",
        "#     group_r_df = group_r_df.reset_index()\n",
        "#     group_r_df = group_r_df.drop(['index'], axis=1)\n",
        "#     bb_r_array = group_r_df.drop(['filename', 'width', 'height', 'class'], axis=1).values\n",
        "#     resized_img = mpimg.imread('images/'+filename+\".jpg\")\n",
        "#     bbs_r = BoundingBoxesOnImage.from_xyxy_array(bb_r_array, shape=resized_img.shape)\n",
        "#     for i in range(1,11):\n",
        "#         group_a_df = grouped_augmented.get_group('aug1_'+str(i)+filename)\n",
        "#         group_a_df = group_a_df.reset_index()\n",
        "#         group_a_df = group_a_df.drop(['index'], axis=1)\n",
        "#         bb_a_array = group_a_df.drop(['filename', 'width', 'height', 'class'], axis=1).values\n",
        "#         augmented_img = mpimg.imread('aug_images/'+'aug1_'+str(i)+filename+\".jpg\")\n",
        "#         bbs_a = BoundingBoxesOnImage.from_xyxy_array(bb_a_array, shape=augmented_img.shape)\n",
        "\n",
        "#         ia.imshow(np.hstack([\n",
        "#                 bbs_r.draw_on_image(resized_img, size=2),\n",
        "#                 bbs_a.draw_on_image(augmented_img, size=2)\n",
        "#                 ]))"
      ]
    },
    {
      "cell_type": "code",
      "execution_count": 46,
      "metadata": {
        "id": "HWgWHynKrqCA"
      },
      "outputs": [],
      "source": [
        "# Concat resized_images_df and augmented_images_df together and save in a new all_labels.csv file\n",
        "all_labels_df = pd.concat([resized_images_df, augmented_images_df])\n",
        "all_labels_df.to_csv(\"all_labels.csv\", index=False)"
      ]
    },
    {
      "cell_type": "markdown",
      "metadata": {},
      "source": [
        "## Stop ##"
      ]
    },
    {
      "cell_type": "code",
      "execution_count": 47,
      "metadata": {
        "id": "tPDTKfiYrqCP"
      },
      "outputs": [],
      "source": [
        "# Lastly we can copy all our augmented images in the same folder as original resized images\n",
        "for file in os.listdir(\"aug_images\"):\n",
        "    shutil.copy(\"aug_images/\" + file, \"images/\" + file)"
      ]
    },
    {
      "cell_type": "code",
      "execution_count": 48,
      "metadata": {
        "id": "E9AStICeYCHg"
      },
      "outputs": [
        {
          "data": {
            "text/html": [
              "<div>\n",
              "<style scoped>\n",
              "    .dataframe tbody tr th:only-of-type {\n",
              "        vertical-align: middle;\n",
              "    }\n",
              "\n",
              "    .dataframe tbody tr th {\n",
              "        vertical-align: top;\n",
              "    }\n",
              "\n",
              "    .dataframe thead th {\n",
              "        text-align: right;\n",
              "    }\n",
              "</style>\n",
              "<table border=\"1\" class=\"dataframe\">\n",
              "  <thead>\n",
              "    <tr style=\"text-align: right;\">\n",
              "      <th></th>\n",
              "      <th>filename</th>\n",
              "      <th>width</th>\n",
              "      <th>height</th>\n",
              "      <th>class</th>\n",
              "      <th>xmin</th>\n",
              "      <th>ymin</th>\n",
              "      <th>xmax</th>\n",
              "      <th>ymax</th>\n",
              "    </tr>\n",
              "  </thead>\n",
              "  <tbody>\n",
              "    <tr>\n",
              "      <th>0</th>\n",
              "      <td>(1000)</td>\n",
              "      <td>256</td>\n",
              "      <td>256</td>\n",
              "      <td>Tomato___Late_blight</td>\n",
              "      <td>84.500100</td>\n",
              "      <td>41.930100</td>\n",
              "      <td>241.6900</td>\n",
              "      <td>215.400100</td>\n",
              "    </tr>\n",
              "    <tr>\n",
              "      <th>1</th>\n",
              "      <td>(10000)</td>\n",
              "      <td>256</td>\n",
              "      <td>256</td>\n",
              "      <td>Tomato___Spider_mites Two-spotted_spider_mite</td>\n",
              "      <td>16.910000</td>\n",
              "      <td>0.670000</td>\n",
              "      <td>220.2100</td>\n",
              "      <td>235.660000</td>\n",
              "    </tr>\n",
              "    <tr>\n",
              "      <th>2</th>\n",
              "      <td>(10001)</td>\n",
              "      <td>256</td>\n",
              "      <td>256</td>\n",
              "      <td>Tomato___Leaf_Mold</td>\n",
              "      <td>32.700000</td>\n",
              "      <td>20.860000</td>\n",
              "      <td>237.3400</td>\n",
              "      <td>221.000100</td>\n",
              "    </tr>\n",
              "    <tr>\n",
              "      <th>3</th>\n",
              "      <td>(10002)</td>\n",
              "      <td>256</td>\n",
              "      <td>256</td>\n",
              "      <td>Tomato___Early_blight</td>\n",
              "      <td>8.120100</td>\n",
              "      <td>0.000000</td>\n",
              "      <td>234.4000</td>\n",
              "      <td>256.000000</td>\n",
              "    </tr>\n",
              "    <tr>\n",
              "      <th>4</th>\n",
              "      <td>(10003)</td>\n",
              "      <td>256</td>\n",
              "      <td>256</td>\n",
              "      <td>Tomato___Early_blight</td>\n",
              "      <td>34.500100</td>\n",
              "      <td>5.409900</td>\n",
              "      <td>231.6001</td>\n",
              "      <td>244.499800</td>\n",
              "    </tr>\n",
              "    <tr>\n",
              "      <th>...</th>\n",
              "      <td>...</td>\n",
              "      <td>...</td>\n",
              "      <td>...</td>\n",
              "      <td>...</td>\n",
              "      <td>...</td>\n",
              "      <td>...</td>\n",
              "      <td>...</td>\n",
              "      <td>...</td>\n",
              "    </tr>\n",
              "    <tr>\n",
              "      <th>9793</th>\n",
              "      <td>aug1_10(9995)</td>\n",
              "      <td>256</td>\n",
              "      <td>256</td>\n",
              "      <td>Tomato___Leaf_Mold</td>\n",
              "      <td>0.000000</td>\n",
              "      <td>0.162166</td>\n",
              "      <td>256.0000</td>\n",
              "      <td>256.000000</td>\n",
              "    </tr>\n",
              "    <tr>\n",
              "      <th>9794</th>\n",
              "      <td>aug1_10(9996)</td>\n",
              "      <td>256</td>\n",
              "      <td>256</td>\n",
              "      <td>Tomato___Tomato_mosaic_virus</td>\n",
              "      <td>16.984375</td>\n",
              "      <td>0.000000</td>\n",
              "      <td>256.0000</td>\n",
              "      <td>251.616409</td>\n",
              "    </tr>\n",
              "    <tr>\n",
              "      <th>9795</th>\n",
              "      <td>aug1_10(9997)</td>\n",
              "      <td>256</td>\n",
              "      <td>256</td>\n",
              "      <td>Tomato___Spider_mites Two-spotted_spider_mite</td>\n",
              "      <td>0.000000</td>\n",
              "      <td>0.000000</td>\n",
              "      <td>256.0000</td>\n",
              "      <td>256.000000</td>\n",
              "    </tr>\n",
              "    <tr>\n",
              "      <th>9796</th>\n",
              "      <td>aug1_10(9998)</td>\n",
              "      <td>256</td>\n",
              "      <td>256</td>\n",
              "      <td>Tomato___Leaf_Mold</td>\n",
              "      <td>0.000000</td>\n",
              "      <td>0.000000</td>\n",
              "      <td>256.0000</td>\n",
              "      <td>256.000000</td>\n",
              "    </tr>\n",
              "    <tr>\n",
              "      <th>9797</th>\n",
              "      <td>aug1_10(9999)</td>\n",
              "      <td>256</td>\n",
              "      <td>256</td>\n",
              "      <td>Tomato___Healthy</td>\n",
              "      <td>0.000000</td>\n",
              "      <td>0.000000</td>\n",
              "      <td>256.0000</td>\n",
              "      <td>256.000000</td>\n",
              "    </tr>\n",
              "  </tbody>\n",
              "</table>\n",
              "<p>107778 rows × 8 columns</p>\n",
              "</div>"
            ],
            "text/plain": [
              "           filename width height  \\\n",
              "0            (1000)   256    256   \n",
              "1           (10000)   256    256   \n",
              "2           (10001)   256    256   \n",
              "3           (10002)   256    256   \n",
              "4           (10003)   256    256   \n",
              "...             ...   ...    ...   \n",
              "9793  aug1_10(9995)   256    256   \n",
              "9794  aug1_10(9996)   256    256   \n",
              "9795  aug1_10(9997)   256    256   \n",
              "9796  aug1_10(9998)   256    256   \n",
              "9797  aug1_10(9999)   256    256   \n",
              "\n",
              "                                              class       xmin       ymin  \\\n",
              "0                              Tomato___Late_blight  84.500100  41.930100   \n",
              "1     Tomato___Spider_mites Two-spotted_spider_mite  16.910000   0.670000   \n",
              "2                                Tomato___Leaf_Mold  32.700000  20.860000   \n",
              "3                             Tomato___Early_blight   8.120100   0.000000   \n",
              "4                             Tomato___Early_blight  34.500100   5.409900   \n",
              "...                                             ...        ...        ...   \n",
              "9793                             Tomato___Leaf_Mold   0.000000   0.162166   \n",
              "9794                   Tomato___Tomato_mosaic_virus  16.984375   0.000000   \n",
              "9795  Tomato___Spider_mites Two-spotted_spider_mite   0.000000   0.000000   \n",
              "9796                             Tomato___Leaf_Mold   0.000000   0.000000   \n",
              "9797                               Tomato___Healthy   0.000000   0.000000   \n",
              "\n",
              "          xmax        ymax  \n",
              "0     241.6900  215.400100  \n",
              "1     220.2100  235.660000  \n",
              "2     237.3400  221.000100  \n",
              "3     234.4000  256.000000  \n",
              "4     231.6001  244.499800  \n",
              "...        ...         ...  \n",
              "9793  256.0000  256.000000  \n",
              "9794  256.0000  251.616409  \n",
              "9795  256.0000  256.000000  \n",
              "9796  256.0000  256.000000  \n",
              "9797  256.0000  256.000000  \n",
              "\n",
              "[107778 rows x 8 columns]"
            ]
          },
          "execution_count": 48,
          "metadata": {},
          "output_type": "execute_result"
        }
      ],
      "source": [
        "all_labels_df"
      ]
    },
    {
      "cell_type": "code",
      "execution_count": 62,
      "metadata": {
        "id": "hZDqvTfszbFq"
      },
      "outputs": [],
      "source": [
        "import csv\n",
        "import xml.etree.cElementTree as ET\n",
        "\n",
        "\n",
        "def csv_to_xml(csv_path, resized_images_path, labels_path, folder):\n",
        "    f = open(csv_path, \"r\")\n",
        "    reader = csv.reader(f)\n",
        "    header = next(reader)\n",
        "    old_filename = None\n",
        "    for row in reader:\n",
        "        filename = row[0]\n",
        "        if filename == old_filename:\n",
        "            object = ET.SubElement(annotation, \"object\")\n",
        "            ET.SubElement(object, \"name\").text = row[3]\n",
        "            ET.SubElement(object, \"pose\").text = \"Unspecified\"\n",
        "            ET.SubElement(object, \"truncated\").text = \"0\"\n",
        "            ET.SubElement(object, \"difficult\").text = \"0\"\n",
        "            bndbox = ET.SubElement(object, \"bndbox\")\n",
        "            ET.SubElement(bndbox, \"xmin\").text = row[4]\n",
        "            ET.SubElement(bndbox, \"ymin\").text = row[5]\n",
        "            ET.SubElement(bndbox, \"xmax\").text = row[6]\n",
        "            ET.SubElement(bndbox, \"ymax\").text = row[7]\n",
        "        else:\n",
        "            if old_filename is not None:\n",
        "                labels_file = old_filename.replace(\".jpg\", \".xml\")\n",
        "                tree = ET.ElementTree(annotation)\n",
        "                tree.write(labels_path + labels_file)\n",
        "\n",
        "            annotation = ET.Element(\"annotation\")\n",
        "            ET.SubElement(annotation, \"folder\").text = folder\n",
        "            ET.SubElement(annotation, \"filename\").text = filename\n",
        "            ET.SubElement(annotation, \"path\").text = resized_images_path + filename\n",
        "            source = ET.SubElement(annotation, \"source\")\n",
        "            ET.SubElement(source, \"database\").text = \"Unknown\"\n",
        "            size = ET.SubElement(annotation, \"size\")\n",
        "            ET.SubElement(size, \"width\").text = row[1]\n",
        "            ET.SubElement(size, \"height\").text = row[2]\n",
        "            ET.SubElement(size, \"depth\").text = \"3\"\n",
        "            ET.SubElement(annotation, \"segmented\").text = \"0\"\n",
        "\n",
        "            object = ET.SubElement(annotation, \"object\")\n",
        "            ET.SubElement(object, \"name\").text = row[3]\n",
        "            ET.SubElement(object, \"pose\").text = \"Unspecified\"\n",
        "            ET.SubElement(object, \"truncated\").text = \"0\"\n",
        "            ET.SubElement(object, \"difficult\").text = \"0\"\n",
        "            bndbox = ET.SubElement(object, \"bndbox\")\n",
        "            ET.SubElement(bndbox, \"xmin\").text = row[4]\n",
        "            ET.SubElement(bndbox, \"ymin\").text = row[5]\n",
        "            ET.SubElement(bndbox, \"xmax\").text = row[6]\n",
        "            ET.SubElement(bndbox, \"ymax\").text = row[7]\n",
        "        old_filename = filename\n",
        "    f.close()"
      ]
    },
    {
      "cell_type": "code",
      "execution_count": 63,
      "metadata": {},
      "outputs": [
        {
          "name": "stdout",
          "output_type": "stream",
          "text": [
            "D:\\rahul\\train\n"
          ]
        }
      ],
      "source": [
        "cd D:\\rahul\\train"
      ]
    },
    {
      "cell_type": "code",
      "execution_count": 68,
      "metadata": {},
      "outputs": [
        {
          "name": "stdout",
          "output_type": "stream",
          "text": [
            "D:\\rahul\\disease\\New folder\\train\n"
          ]
        }
      ],
      "source": [
        "cd D:\\rahul\\disease\\New folder\\train"
      ]
    },
    {
      "cell_type": "code",
      "execution_count": 69,
      "metadata": {
        "id": "wlSs-fLKYjdp"
      },
      "outputs": [],
      "source": [
        "csv_to_xml(\"all_labels.csv\", \"images/\", \"labels1/\", \"new_labels/\")"
      ]
    },
    {
      "cell_type": "code",
      "execution_count": null,
      "metadata": {},
      "outputs": [],
      "source": [
        "import os\n",
        "import xml.etree.ElementTree as ET\n",
        "\n",
        "def convert_xml_to_yolo(xml_path, yolo_path):\n",
        "    tree = ET.parse(xml_path)\n",
        "    root = tree.getroot()\n",
        "\n",
        "    # Extract image width and height (assuming they are present in the XML)\n",
        "    width = int(root.find(\".//width\").text)\n",
        "    height = int(root.find(\".//height\").text)\n",
        "\n",
        "    with open(yolo_path, 'w') as yolo_file:\n",
        "        for obj in root.findall('.//object'):\n",
        "            class_name = obj.find('name').text\n",
        "            class_id = 0  # Assign the class ID based on your class labels\n",
        "\n",
        "            bbox = obj.find('bndbox')\n",
        "            x_center = (int(bbox.find('xmin').text) + int(bbox.find('xmax').text)) / (2.0 * width)\n",
        "            y_center = (int(bbox.find('ymin').text) + int(bbox.find('ymax').text)) / (2.0 * height)\n",
        "            bbox_width = (int(bbox.find('xmax').text) - int(bbox.find('xmin').text)) / width\n",
        "            bbox_height = (int(bbox.find('ymax').text) - int(bbox.find('ymin').text)) / height\n",
        "\n",
        "            yolo_line = f\"{class_id} {x_center} {y_center} {bbox_width} {bbox_height}\\n\"\n",
        "            yolo_file.write(yolo_line)\n",
        "\n",
        "# Specify the directory containing XML files and the directory where you want to save YOLO files\n",
        "xml_directory = '/path/to/xml/files'\n",
        "yolo_directory = '/path/to/yolo/files'\n",
        "\n",
        "# Iterate through all XML files in the directory\n",
        "for xml_file in os.listdir(xml_directory):\n",
        "    if xml_file.endswith('.xml'):\n",
        "        xml_path = os.path.join(xml_directory, xml_file)\n",
        "        yolo_file = os.path.join(yolo_directory, xml_file.replace('.xml', '.txt'))\n",
        "\n",
        "        convert_xml_to_yolo(xml_path, yolo_file)\n"
      ]
    },
    {
      "cell_type": "code",
      "execution_count": null,
      "metadata": {},
      "outputs": [],
      "source": [
        "import os\n",
        "import xml.etree.ElementTree as ET\n",
        "\n",
        "def convert_pascal_to_yolo(xml_path, yolo_path, class_mapping):\n",
        "    tree = ET.parse(xml_path)\n",
        "    root = tree.getroot()\n",
        "\n",
        "    width = int(root.find(\".//width\").text)\n",
        "    height = int(root.find(\".//height\").text)\n",
        "\n",
        "    with open(yolo_path, 'w') as yolo_file:\n",
        "        for obj in root.findall('.//object'):\n",
        "            class_name = obj.find('name').text\n",
        "            if class_name not in class_mapping:\n",
        "                # Skip objects with unknown class\n",
        "                continue\n",
        "\n",
        "            class_id = class_mapping[class_name]\n",
        "\n",
        "            bbox = obj.find('bndbox')\n",
        "            x_center = (int(bbox.find('xmin').text) + int(bbox.find('xmax').text)) / (2.0 * width)\n",
        "            y_center = (int(bbox.find('ymin').text) + int(bbox.find('ymax').text)) / (2.0 * height)\n",
        "            bbox_width = (int(bbox.find('xmax').text) - int(bbox.find('xmin').text)) / width\n",
        "            bbox_height = (int(bbox.find('ymax').text) - int(bbox.find('ymin').text)) / height\n",
        "\n",
        "            yolo_line = f\"{class_id} {x_center} {y_center} {bbox_width} {bbox_height}\\n\"\n",
        "            yolo_file.write(yolo_line)\n",
        "\n",
        "# Define the class mapping based on your specific classes\n",
        "class_mapping = {'class1': 0, 'class2': 1, 'class3': 2, ...}\n",
        "\n",
        "# Specify the directory containing Pascal VOC XML files and the directory where you want to save YOLO files\n",
        "voc_directory = '/path/to/voc/xml/files'\n",
        "yolo_directory = '/path/to/yolo/files'\n",
        "\n",
        "# Iterate through all Pascal VOC XML files in the directory\n",
        "for xml_file in os.listdir(voc_directory):\n",
        "    if xml_file.endswith('.xml'):\n",
        "        xml_path = os.path.join(voc_directory, xml_file)\n",
        "        yolo_file = os.path.join(yolo_directory, xml_file.replace('.xml', '.txt'))\n",
        "\n",
        "        convert_pascal_to_yolo(xml_path, yolo_file, class_mapping)\n"
      ]
    },
    {
      "cell_type": "markdown",
      "metadata": {},
      "source": []
    },
    {
      "cell_type": "code",
      "execution_count": null,
      "metadata": {},
      "outputs": [],
      "source": [
        "def pascal_voc_to_yolo(x1, y1, x2, y2, image_w, image_h):\n",
        "    return [\n",
        "        ((x2 + x1) / (2 * image_w)),\n",
        "        ((y2 + y1) / (2 * image_h)),\n",
        "        (x2 - x1) / image_w,\n",
        "        (y2 - y1) / image_h,\n",
        "    ]"
      ]
    },
    {
      "cell_type": "code",
      "execution_count": 25,
      "metadata": {},
      "outputs": [
        {
          "name": "stdout",
          "output_type": "stream",
          "text": [
            "D:\\rahul\\train\\New Folder\n"
          ]
        }
      ],
      "source": [
        "cd \"D:\\rahul\\train\\New Folder\""
      ]
    },
    {
      "cell_type": "code",
      "execution_count": null,
      "metadata": {},
      "outputs": [],
      "source": []
    },
    {
      "cell_type": "code",
      "execution_count": null,
      "metadata": {},
      "outputs": [],
      "source": []
    },
    {
      "cell_type": "code",
      "execution_count": 27,
      "metadata": {
        "id": "1rcEDyGemj7Y"
      },
      "outputs": [
        {
          "name": "stdout",
          "output_type": "stream",
          "text": [
            "Finished processing: images\n"
          ]
        }
      ],
      "source": [
        "import glob\n",
        "import os\n",
        "import pickle\n",
        "import xml.etree.ElementTree as ET\n",
        "from os import listdir, getcwd\n",
        "from os.path import join\n",
        "\n",
        "dirs = [\"images\"]\n",
        "classes = [\n",
        "    \"Tomato___Tomato_mosaic_virus\",\n",
        "    \"Tomato___Bacterial_spot\",\n",
        "    \"Tomato___Early_blight\",\n",
        "    \"Tomato___Late_blight\",\n",
        "    \"Tomato___Leaf_Mold\",\n",
        "    \"Tomato___Spider_mites Two-spotted_spider_mite\",\n",
        "    \"Tomato___Target_Spot\",\n",
        "    \"Tomato___Tomato_Yellow_Leaf_Curl_Virus\",\n",
        "    \"Tomato___Septoria_leaf_spot\",\n",
        "    \"Tomato___Healthy\",\n",
        "]\n",
        "\n",
        "\n",
        "def getImagesInDir(dir_path):\n",
        "    image_list = []\n",
        "    for filename in glob.glob(dir_path + '/*.jpg'):\n",
        "        image_list.append(filename)\n",
        "\n",
        "    return image_list\n",
        "\n",
        "def convert(size, box):\n",
        "    dw = 1./(size[0])\n",
        "    dh = 1./(size[1])\n",
        "    x = (box[0] + box[1])/2.0 - 1\n",
        "    y = (box[2] + box[3])/2.0 - 1\n",
        "    w = box[1] - box[0]\n",
        "    h = box[3] - box[2]\n",
        "    x = x*dw\n",
        "    w = w*dw\n",
        "    y = y*dh\n",
        "    h = h*dh\n",
        "    return (x,y,w,h)\n",
        "\n",
        "def convert_annotation(dir_path, output_path, image_path):\n",
        "    basename = os.path.basename(image_path)\n",
        "    basename_no_ext = os.path.splitext(basename)[0]\n",
        "\n",
        "    in_file = open(dir_path + '/' + basename_no_ext + '.xml')\n",
        "    out_file = open(output_path + basename_no_ext + '.txt', 'w')\n",
        "    tree = ET.parse(in_file)\n",
        "    root = tree.getroot()\n",
        "    size = root.find('size')\n",
        "    w = int(size.find('width').text)\n",
        "    h = int(size.find('height').text)\n",
        "\n",
        "    for obj in root.iter('object'):\n",
        "        difficult = obj.find('difficult').text\n",
        "        cls = obj.find('name').text\n",
        "        if cls not in classes or int(difficult)==1:\n",
        "            continue\n",
        "        cls_id = classes.index(cls)\n",
        "        xmlbox = obj.find('bndbox')\n",
        "        b = (float(xmlbox.find('xmin').text), float(xmlbox.find('xmax').text), float(xmlbox.find('ymin').text), float(xmlbox.find('ymax').text))\n",
        "        bb = convert((w,h), b)\n",
        "        out_file.write(str(cls_id) + \" \" + \" \".join([str(a) for a in bb]) + '\\n')\n",
        "\n",
        "cwd = getcwd()\n",
        "\n",
        "for dir_path in dirs:\n",
        "    full_dir_path = cwd + '/' + dir_path\n",
        "    output_path = full_dir_path +'/yolo/'\n",
        "\n",
        "    if not os.path.exists(output_path):\n",
        "        os.makedirs(output_path)\n",
        "\n",
        "    image_paths = getImagesInDir(full_dir_path)\n",
        "    list_file = open(full_dir_path + '.txt', 'w')\n",
        "\n",
        "    for image_path in image_paths:\n",
        "        list_file.write(image_path + '\\n')\n",
        "        convert_annotation(full_dir_path, output_path, image_path)\n",
        "    list_file.close()\n",
        "\n",
        "    print(\"Finished processing: \" + dir_path)"
      ]
    },
    {
      "cell_type": "code",
      "execution_count": 1,
      "metadata": {},
      "outputs": [
        {
          "data": {
            "text/plain": [
              "'c:\\\\Users\\\\USER\\\\Downloads'"
            ]
          },
          "execution_count": 1,
          "metadata": {},
          "output_type": "execute_result"
        }
      ],
      "source": [
        "pwd"
      ]
    },
    {
      "cell_type": "code",
      "execution_count": 1,
      "metadata": {},
      "outputs": [
        {
          "name": "stdout",
          "output_type": "stream",
          "text": [
            "D:\\rahul\\train\n"
          ]
        }
      ],
      "source": [
        "cd D:\\rahul\\train"
      ]
    },
    {
      "cell_type": "code",
      "execution_count": 4,
      "metadata": {},
      "outputs": [],
      "source": [
        "import os\n",
        "import mimetypes\n",
        "import xml.etree.ElementTree as ET\n",
        "\n",
        "def convert_folder_to_xml(input_folder, output_folder):\n",
        "    for filename in os.listdir(input_folder):\n",
        "        file_path = os.path.join(input_folder, filename)\n",
        "\n",
        "        # Use Python's mimetypes module to identify the file type\n",
        "        file_type, encoding = mimetypes.guess_type(file_path)\n",
        "\n",
        "        # Check if the file is of type text or if MIME type detection failed\n",
        "        if file_type and file_type.startswith('text') or file_type is None:\n",
        "            with open(file_path, 'r', encoding=encoding) as file:\n",
        "                file_content = file.read()\n",
        "\n",
        "            # Parse the existing XML content\n",
        "            root = ET.fromstring(file_content)\n",
        "\n",
        "            # Create an individual XML file for each text file in the new format\n",
        "            output_xml = os.path.join(output_folder, f\"{filename}.xml\")\n",
        "            tree = ET.ElementTree(root)\n",
        "            tree.write(output_xml)\n",
        "\n",
        "# Example usage\n",
        "convert_folder_to_xml(\"labelscopy\", \"new_labels\")"
      ]
    },
    {
      "cell_type": "code",
      "execution_count": null,
      "metadata": {},
      "outputs": [],
      "source": []
    }
  ],
  "metadata": {
    "colab": {
      "provenance": []
    },
    "kernelspec": {
      "display_name": "Python 3",
      "name": "python3"
    },
    "language_info": {
      "codemirror_mode": {
        "name": "ipython",
        "version": 3
      },
      "file_extension": ".py",
      "mimetype": "text/x-python",
      "name": "python",
      "nbconvert_exporter": "python",
      "pygments_lexer": "ipython3",
      "version": "3.12.2"
    }
  },
  "nbformat": 4,
  "nbformat_minor": 0
}
